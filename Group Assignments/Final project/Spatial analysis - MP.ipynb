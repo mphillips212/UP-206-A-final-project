{
 "cells": [
  {
   "cell_type": "code",
   "execution_count": null,
   "id": "alone-worth",
   "metadata": {},
   "outputs": [],
   "source": [
    "%matplotlib notebook\n",
    "import geopandas as gpd\n",
    "import matplotlib.pyplot as plt\n",
    "import pandas as pd\n",
    "import contextily as ctx\n",
    "import plotly.express as px\n",
    "import seaborn as sns\n",
    "import numpy as np\n",
    "import folium\n",
    "\n",
    "# For spatial statistics\n",
    "import esda\n",
    "from esda.moran import Moran, Moran_Local\n",
    "import splot\n",
    "from splot.esda import moran_scatterplot, plot_moran, lisa_cluster,plot_moran_simulation\n",
    "import libpysal as lps"
   ]
  },
  {
   "cell_type": "markdown",
   "id": "requested-dollar",
   "metadata": {},
   "source": [
    "# California Power Plant Map"
   ]
  },
  {
   "cell_type": "code",
   "execution_count": null,
   "id": "accomplished-start",
   "metadata": {},
   "outputs": [],
   "source": [
    "#import data\n",
    "cpp = gpd.read_file('California_Power_Plants_MP Cleaned 3.1.21.csv')"
   ]
  },
  {
   "cell_type": "markdown",
   "id": "anticipated-nashville",
   "metadata": {},
   "source": [
    "Explore data"
   ]
  },
  {
   "cell_type": "code",
   "execution_count": null,
   "id": "olympic-panama",
   "metadata": {},
   "outputs": [],
   "source": [
    "type(cpp)"
   ]
  },
  {
   "cell_type": "code",
   "execution_count": null,
   "id": "sweet-fleet",
   "metadata": {},
   "outputs": [],
   "source": [
    "cpp.shape"
   ]
  },
  {
   "cell_type": "code",
   "execution_count": null,
   "id": "sitting-trustee",
   "metadata": {},
   "outputs": [],
   "source": [
    "cpp.head(10)"
   ]
  },
  {
   "cell_type": "code",
   "execution_count": null,
   "id": "compressed-guard",
   "metadata": {},
   "outputs": [],
   "source": [
    "cpp.dtypes"
   ]
  },
  {
   "cell_type": "code",
   "execution_count": null,
   "id": "spatial-turtle",
   "metadata": {},
   "outputs": [],
   "source": [
    "cpp.columns = ['Plant_ID',\n",
    " 'Name',\n",
    " 'MW',\n",
    " 'Gross_MWh',\n",
    " 'Net_MWh',\n",
    " 'Fuel_Type',\n",
    " 'Status',\n",
    " 'Online_Year',\n",
    " 'REAT_ID',\n",
    " 'County',\n",
    " 'State',\n",
    " 'Renewable_Energy',\n",
    " 'Jobs',\n",
    " 'Senate_District',\n",
    " 'Assembly_District',\n",
    " 'Congressional_District',\n",
    " 'CES30_PercentileRange',\n",
    " 'CES30_Percentile',\n",
    " 'Lon',\n",
    " 'Lat',\n",
    " 'Operation_Job',\n",
    " 'Capacity_Factor',\n",
    " 'Income_Percent',\n",
    " 'Project_Location',\n",
    " 'geometry']"
   ]
  },
  {
   "cell_type": "code",
   "execution_count": null,
   "id": "prepared-mouse",
   "metadata": {},
   "outputs": [],
   "source": [
    "# define variable with desired columns \n",
    "desired_columns = ['Plant_ID',\n",
    " 'Name',\n",
    " 'MW',\n",
    " 'Fuel_Type',\n",
    " 'Status',\n",
    " 'County',\n",
    " 'State',\n",
    " 'Renewable_Energy',\n",
    " 'Jobs',\n",
    " 'CES30_PercentileRange',\n",
    " 'CES30_Percentile',\n",
    " 'Lon',\n",
    " 'Lat',\n",
    " 'Income_Percent',\n",
    " 'Project_Location',\n",
    " 'geometry']\n",
    "\n",
    "# redefine dataframe with desired columns\n",
    "cpp_trim = cpp[desired_columns].copy()\n",
    "\n",
    "# check new dataframe\n",
    "cpp_trim"
   ]
  },
  {
   "cell_type": "code",
   "execution_count": null,
   "id": "christian-armstrong",
   "metadata": {},
   "outputs": [],
   "source": [
    "# Convert coordinates to floats. \n",
    "cpp_trim.Lon = cpp_trim.Lon.astype('float')\n",
    "cpp_trim.Lat = cpp_trim.Lat.astype('float')"
   ]
  },
  {
   "cell_type": "code",
   "execution_count": null,
   "id": "southwest-america",
   "metadata": {},
   "outputs": [],
   "source": [
    "# Reproject dataframe\n",
    "cpp_trim = gpd.GeoDataFrame(cpp_trim, \n",
    "                         crs='EPSG:4326',\n",
    "                         geometry=gpd.points_from_xy(cpp_trim.Lon, cpp_trim.Lat))\n",
    "\n",
    "cpp_trim.head(5)"
   ]
  },
  {
   "cell_type": "code",
   "execution_count": null,
   "id": "hollywood-circus",
   "metadata": {},
   "outputs": [],
   "source": [
    "# check crs type\n",
    "cpp_trim.crs"
   ]
  },
  {
   "cell_type": "markdown",
   "id": "general-poverty",
   "metadata": {},
   "source": [
    "# Demographics (CES)"
   ]
  },
  {
   "cell_type": "code",
   "execution_count": null,
   "id": "adjustable-lounge",
   "metadata": {},
   "outputs": [],
   "source": [
    "# import demographics dataset\n",
    "gdf_ces = gpd.read_file('CES3June2018Update.shp')"
   ]
  },
  {
   "cell_type": "markdown",
   "id": "large-color",
   "metadata": {},
   "source": [
    "Explore data"
   ]
  },
  {
   "cell_type": "code",
   "execution_count": null,
   "id": "annual-ottawa",
   "metadata": {},
   "outputs": [],
   "source": [
    "type(gdf_ces)"
   ]
  },
  {
   "cell_type": "code",
   "execution_count": null,
   "id": "complete-jonathan",
   "metadata": {
    "scrolled": true
   },
   "outputs": [],
   "source": [
    "gdf_ces.crs"
   ]
  },
  {
   "cell_type": "code",
   "execution_count": null,
   "id": "local-charm",
   "metadata": {},
   "outputs": [],
   "source": [
    "gdf_ces.shape"
   ]
  },
  {
   "cell_type": "code",
   "execution_count": null,
   "id": "southeast-reset",
   "metadata": {},
   "outputs": [],
   "source": [
    "#define variable with desired columns \n",
    "columns_to_keep = ['tract', 'pop2010', 'California', 'ZIP', 'City', 'Longitude', 'Latitude', 'CIscore', 'CIscoreP', 'edu', 'eduP', 'pov', 'povP', 'unemp', 'unempP', 'Pop_11_64_', 'Elderly_ov', 'Hispanic_p', 'White_pct', 'African_Am', 'Native_Ame', 'Asian_Amer', 'Other_pct', 'geometry']\n",
    "\n",
    "#redfine dataframe with desired columns \n",
    "gdf_ces = gdf_ces[columns_to_keep]\n",
    "\n",
    "# check to make sure \n",
    "gdf_ces.head()"
   ]
  },
  {
   "cell_type": "code",
   "execution_count": null,
   "id": "gothic-fairy",
   "metadata": {},
   "outputs": [],
   "source": [
    "list(gdf_ces)"
   ]
  },
  {
   "cell_type": "markdown",
   "id": "fallen-beaver",
   "metadata": {},
   "source": [
    "## Tracts by race"
   ]
  },
  {
   "cell_type": "code",
   "execution_count": null,
   "id": "metropolitan-anxiety",
   "metadata": {},
   "outputs": [],
   "source": [
    "# create list of races\n",
    "ces_races = ['Hispanic_p', 'White_pct', 'African_Am', 'Asian_Amer']"
   ]
  },
  {
   "cell_type": "code",
   "execution_count": null,
   "id": "supreme-reception",
   "metadata": {},
   "outputs": [],
   "source": [
    "# reproject dataframes to web mercator\n",
    "gdf_ces = gdf_ces.to_crs(epsg=3857)\n",
    "\n",
    "cpp_trim = cpp_trim.to_crs(epsg=3857)"
   ]
  },
  {
   "cell_type": "code",
   "execution_count": null,
   "id": "acoustic-amber",
   "metadata": {},
   "outputs": [],
   "source": [
    "# convert CES30_Percentile to integer\n",
    "cpp_trim['CES30_Percentile'] = pd.to_numeric(cpp_trim['CES30_Percentile'])"
   ]
  },
  {
   "cell_type": "code",
   "execution_count": null,
   "id": "incorporated-queen",
   "metadata": {},
   "outputs": [],
   "source": [
    "# convert MW to integer\n",
    "cpp_trim['MW'] = pd.to_numeric(cpp_trim['MW'])"
   ]
  },
  {
   "cell_type": "code",
   "execution_count": null,
   "id": "fossil-brisbane",
   "metadata": {},
   "outputs": [],
   "source": [
    "# create dataframe for renewable energy\n",
    "cpp_ce = cpp_trim[cpp_trim.Renewable_Energy != '0']"
   ]
  },
  {
   "cell_type": "code",
   "execution_count": null,
   "id": "prescription-burton",
   "metadata": {},
   "outputs": [],
   "source": [
    "# check work\n",
    "cpp_ce.shape"
   ]
  },
  {
   "cell_type": "code",
   "execution_count": null,
   "id": "hollow-firmware",
   "metadata": {},
   "outputs": [],
   "source": [
    "# create dataframe for fossil fuel energy\n",
    "cpp_ff = cpp_trim[cpp_trim.Renewable_Energy != '1']"
   ]
  },
  {
   "cell_type": "code",
   "execution_count": null,
   "id": "outstanding-action",
   "metadata": {},
   "outputs": [],
   "source": [
    "cpp_ff.shape"
   ]
  },
  {
   "cell_type": "code",
   "execution_count": null,
   "id": "postal-swedish",
   "metadata": {},
   "outputs": [],
   "source": [
    "# create new variable for disadvantaged community\n",
    "cpp_trim['Community type'] = [0 if x =='Neither Low Income Nor Disadvantaged Community' else 1 for x in cpp_trim['Project_Location']]"
   ]
  },
  {
   "cell_type": "code",
   "execution_count": null,
   "id": "divine-lawrence",
   "metadata": {},
   "outputs": [],
   "source": [
    "list(cpp_trim)"
   ]
  },
  {
   "cell_type": "code",
   "execution_count": null,
   "id": "allied-connection",
   "metadata": {},
   "outputs": [],
   "source": [
    "# convert to integer\n",
    "cpp_trim['Renewable_Energy'] = pd.to_numeric(cpp_trim['Renewable_Energy'])"
   ]
  },
  {
   "cell_type": "code",
   "execution_count": null,
   "id": "extra-bracket",
   "metadata": {},
   "outputs": [],
   "source": [
    "# convert to integer\n",
    "cpp_trim['Community type'] = pd.to_numeric(cpp_trim['Community type'])"
   ]
  },
  {
   "cell_type": "code",
   "execution_count": null,
   "id": "stopped-congo",
   "metadata": {},
   "outputs": [],
   "source": [
    "# check work\n",
    "cpp_trim.dtypes"
   ]
  },
  {
   "cell_type": "code",
   "execution_count": null,
   "id": "pending-cleanup",
   "metadata": {},
   "outputs": [],
   "source": [
    "# create CPP dataframe for LA\n",
    "cpp_LA = cpp_trim[cpp_trim.County == 'Los Angeles']"
   ]
  },
  {
   "cell_type": "code",
   "execution_count": null,
   "id": "floppy-hearts",
   "metadata": {},
   "outputs": [],
   "source": [
    "cpp_LA.head()"
   ]
  },
  {
   "cell_type": "code",
   "execution_count": null,
   "id": "romance-constitutional",
   "metadata": {
    "scrolled": true
   },
   "outputs": [],
   "source": [
    "# create CES dataframe for LA\n",
    "ces_LA = gdf_ces[gdf_ces.California == 'Los Angeles']\n",
    "ces_LA.shape"
   ]
  },
  {
   "cell_type": "code",
   "execution_count": null,
   "id": "disabled-brief",
   "metadata": {},
   "outputs": [],
   "source": [
    "gdf_ces.shape"
   ]
  },
  {
   "cell_type": "code",
   "execution_count": null,
   "id": "devoted-knife",
   "metadata": {},
   "outputs": [],
   "source": [
    "# create dataframe for fossil fuel energy  in LA\n",
    "cpp_ff_LA = cpp_LA[cpp_LA.Renewable_Energy != '1']"
   ]
  },
  {
   "cell_type": "code",
   "execution_count": null,
   "id": "looking-holly",
   "metadata": {},
   "outputs": [],
   "source": [
    "# create dataframe for renewable energy in LA\n",
    "cpp_ce_LA = cpp_LA[cpp_LA.Renewable_Energy == '1']"
   ]
  },
  {
   "cell_type": "markdown",
   "id": "indonesian-boston",
   "metadata": {},
   "source": [
    "# Data analysis"
   ]
  },
  {
   "cell_type": "markdown",
   "id": "narrative-disaster",
   "metadata": {},
   "source": [
    "## Stacked bar chart"
   ]
  },
  {
   "cell_type": "markdown",
   "id": "adolescent-scottish",
   "metadata": {},
   "source": [
    "Compare renewable power plants to fossil fuel plants across environmental burden (CES) score"
   ]
  },
  {
   "cell_type": "markdown",
   "id": "later-advertiser",
   "metadata": {},
   "source": [
    "First, create new variable and group CES scores into percentiles."
   ]
  },
  {
   "cell_type": "code",
   "execution_count": null,
   "id": "english-contributor",
   "metadata": {},
   "outputs": [],
   "source": [
    "# first percentile\n",
    "cpp_trim.loc[cpp_trim['CES30_Percentile'] < 25, 'CES30_Percentile_Group'] = '1st Percentile'"
   ]
  },
  {
   "cell_type": "code",
   "execution_count": null,
   "id": "adult-citation",
   "metadata": {},
   "outputs": [],
   "source": [
    "# check work\n",
    "cpp_trim.head(10)"
   ]
  },
  {
   "cell_type": "code",
   "execution_count": null,
   "id": "composite-seller",
   "metadata": {},
   "outputs": [],
   "source": [
    "# 4th percentile\n",
    "cpp_trim.loc[cpp_trim['CES30_Percentile'] > 74, 'CES30_Percentile_Group'] = '4th Percentile'"
   ]
  },
  {
   "cell_type": "code",
   "execution_count": null,
   "id": "familiar-elite",
   "metadata": {},
   "outputs": [],
   "source": [
    "print(cpp_trim.CES30_Percentile_Group)"
   ]
  },
  {
   "cell_type": "code",
   "execution_count": null,
   "id": "urban-journal",
   "metadata": {},
   "outputs": [],
   "source": [
    "# 2nd percentile\n",
    "cpp_trim.loc[(cpp_trim['CES30_Percentile'] <50) & \n",
    "             (cpp_trim['CES30_Percentile'] >24), 'CES30_Percentile_Group'] = '2nd Percentile' "
   ]
  },
  {
   "cell_type": "code",
   "execution_count": null,
   "id": "prospective-donna",
   "metadata": {},
   "outputs": [],
   "source": [
    "# 3rd percentile\n",
    "cpp_trim.loc[(cpp_trim['CES30_Percentile'] <75) & \n",
    "             (cpp_trim['CES30_Percentile'] >49), 'CES30_Percentile_Group'] = '3rd Percentile' "
   ]
  },
  {
   "cell_type": "code",
   "execution_count": null,
   "id": "drawn-cannon",
   "metadata": {},
   "outputs": [],
   "source": [
    "print(cpp_trim.CES30_Percentile_Group)"
   ]
  },
  {
   "cell_type": "code",
   "execution_count": null,
   "id": "headed-palestinian",
   "metadata": {},
   "outputs": [],
   "source": [
    "# add count of percentiles\n",
    "cpp_trim.groupby(['CES30_Percentile_Group']).count()"
   ]
  },
  {
   "cell_type": "code",
   "execution_count": null,
   "id": "pending-individual",
   "metadata": {},
   "outputs": [],
   "source": [
    "# create new dataframe for grouped percentiles and count\n",
    "cpp_grouped=cpp_trim.groupby(['CES30_Percentile_Group','Renewable_Energy']).count()[['Plant_ID']]\n",
    "cpp_grouped.head(50)"
   ]
  },
  {
   "cell_type": "code",
   "execution_count": null,
   "id": "weighted-bacteria",
   "metadata": {},
   "outputs": [],
   "source": [
    "cpp_flat = cpp_grouped.reset_index()\n",
    "cpp_flat"
   ]
  },
  {
   "cell_type": "code",
   "execution_count": null,
   "id": "complimentary-assumption",
   "metadata": {},
   "outputs": [],
   "source": [
    "# rename columns\n",
    "cpp_flat = cpp_flat.rename(columns={'Plant_ID':'count'})"
   ]
  },
  {
   "cell_type": "code",
   "execution_count": null,
   "id": "phantom-compression",
   "metadata": {},
   "outputs": [],
   "source": [
    "# convert Renewable_Energy to string\n",
    "cpp_flat = cpp_flat.astype({'Renewable_Energy':str})"
   ]
  },
  {
   "cell_type": "code",
   "execution_count": null,
   "id": "western-completion",
   "metadata": {},
   "outputs": [],
   "source": [
    "cpp_flat.dtypes"
   ]
  },
  {
   "cell_type": "code",
   "execution_count": null,
   "id": "conceptual-youth",
   "metadata": {},
   "outputs": [],
   "source": [
    "cpp_flat.columns = ['CES_Percentile', 'Energy Type','count']"
   ]
  },
  {
   "cell_type": "code",
   "execution_count": null,
   "id": "indirect-consortium",
   "metadata": {},
   "outputs": [],
   "source": [
    "# check work\n",
    "cpp_flat.head(10)"
   ]
  },
  {
   "cell_type": "code",
   "execution_count": null,
   "id": "grand-customs",
   "metadata": {},
   "outputs": [],
   "source": [
    "# rename renewable energy values\n",
    "cpp_flat['Energy Type'].replace({'1':'Renewable','0':'Fossil fuel'}, inplace=True)\n",
    "print(cpp_flat)"
   ]
  },
  {
   "cell_type": "code",
   "execution_count": null,
   "id": "greatest-semiconductor",
   "metadata": {},
   "outputs": [],
   "source": [
    "# make basic bar chart\n",
    "px.bar(cpp_flat,\n",
    "       x='CES_Percentile',\n",
    "       y='count'\n",
    "      )"
   ]
  },
  {
   "cell_type": "code",
   "execution_count": null,
   "id": "invisible-swift",
   "metadata": {},
   "outputs": [],
   "source": [
    "# make a stacked bar chart - Percentile\n",
    "px.bar(cpp_flat,\n",
    "       x='CES_Percentile',\n",
    "       y='count',\n",
    "       color='Energy Type'\n",
    "      )"
   ]
  },
  {
   "cell_type": "code",
   "execution_count": null,
   "id": "external-navigator",
   "metadata": {
    "scrolled": true
   },
   "outputs": [],
   "source": [
    "# make a stacked bar chart - Renewable Energy\n",
    "fig = px.bar(cpp_flat,\n",
    "             x='Energy Type',\n",
    "             y='count',\n",
    "             color='CES_Percentile',\n",
    "             title='Energy type by Environmental Burden'\n",
    "            )\n",
    "\n",
    "fig.show()"
   ]
  },
  {
   "cell_type": "code",
   "execution_count": null,
   "id": "polish-invitation",
   "metadata": {},
   "outputs": [],
   "source": [
    "# write to html for storymap display\n",
    "fig.write_html(\"Energy_CES_Stacked.html\")"
   ]
  },
  {
   "cell_type": "markdown",
   "id": "ranging-cartridge",
   "metadata": {},
   "source": [
    "# Spatial analysis"
   ]
  },
  {
   "cell_type": "code",
   "execution_count": null,
   "id": "excessive-illness",
   "metadata": {},
   "outputs": [],
   "source": [
    "# create CES new dataframe for spatial analysis\n",
    "ces_spatial = gdf_ces.copy()"
   ]
  },
  {
   "cell_type": "code",
   "execution_count": null,
   "id": "liquid-generation",
   "metadata": {},
   "outputs": [],
   "source": [
    "# check work\n",
    "ces_spatial.head()"
   ]
  },
  {
   "cell_type": "code",
   "execution_count": null,
   "id": "behind-prayer",
   "metadata": {},
   "outputs": [],
   "source": [
    "# trim the census tracts data to desired columns\n",
    "ces_spatial = ces_spatial[['tract','California','geometry']]\n",
    "\n",
    "# rename the columns\n",
    "ces_spatial.columns = ['FIPS','County','geometry']"
   ]
  },
  {
   "cell_type": "code",
   "execution_count": null,
   "id": "herbal-abuse",
   "metadata": {},
   "outputs": [],
   "source": [
    "ces_spatial.head()"
   ]
  },
  {
   "cell_type": "code",
   "execution_count": null,
   "id": "passing-bidder",
   "metadata": {},
   "outputs": [],
   "source": [
    "# create CPP new dataframe for spatial analysis\n",
    "cpp_spatial = cpp.copy()"
   ]
  },
  {
   "cell_type": "code",
   "execution_count": null,
   "id": "static-slide",
   "metadata": {},
   "outputs": [],
   "source": [
    "# check work\n",
    "cpp_spatial.head()"
   ]
  },
  {
   "cell_type": "code",
   "execution_count": null,
   "id": "assured-continent",
   "metadata": {},
   "outputs": [],
   "source": [
    "# project to web mercator\n",
    "ces_spatial = ces_spatial.to_crs(epsg=3857)"
   ]
  },
  {
   "cell_type": "code",
   "execution_count": null,
   "id": "external-guidance",
   "metadata": {},
   "outputs": [],
   "source": [
    "# convert coordinates to floats\n",
    "cpp_spatial.Lon = cpp_spatial.Lon.astype('float')\n",
    "cpp_spatial.Lat = cpp_spatial.Lat.astype('float')"
   ]
  },
  {
   "cell_type": "code",
   "execution_count": null,
   "id": "false-infrastructure",
   "metadata": {},
   "outputs": [],
   "source": [
    "# Convert CPP data to geodataframe\n",
    "cpp_spatial = gpd.GeoDataFrame(cpp_spatial, \n",
    "                         crs='EPSG:4326',\n",
    "                         geometry=gpd.points_from_xy(cpp_spatial.Lon, cpp_spatial.Lat))\n",
    "\n",
    "cpp_spatial.head()"
   ]
  },
  {
   "cell_type": "code",
   "execution_count": null,
   "id": "invisible-companion",
   "metadata": {},
   "outputs": [],
   "source": [
    "# check crs type\n",
    "cpp_spatial.crs"
   ]
  },
  {
   "cell_type": "code",
   "execution_count": null,
   "id": "formal-karaoke",
   "metadata": {},
   "outputs": [],
   "source": [
    "#reproject CES to web mercator. \n",
    "ces_spatial = ces_spatial.to_crs(epsg=3857)"
   ]
  },
  {
   "cell_type": "code",
   "execution_count": null,
   "id": "built-birthday",
   "metadata": {},
   "outputs": [],
   "source": [
    "#reproject CPP to web mercator\n",
    "cpp_spatial = cpp_spatial.to_crs(epsg=3857)\n",
    "\n",
    "# check work\n",
    "print(cpp_spatial.crs)"
   ]
  },
  {
   "cell_type": "markdown",
   "id": "corresponding-pakistan",
   "metadata": {},
   "source": [
    "We're going to start our spatial statisticss. We need to start by creating new dataframes with counts for all power plants, for just clean energy plants, and for just fossil fuel plants, and then join them back to the main one."
   ]
  },
  {
   "cell_type": "code",
   "execution_count": null,
   "id": "electric-protest",
   "metadata": {},
   "outputs": [],
   "source": [
    "# Spatial join of both datasets\n",
    "join = gpd.sjoin(cpp_spatial, ces_spatial, how='left')\n",
    "join.head(20)"
   ]
  },
  {
   "cell_type": "code",
   "execution_count": null,
   "id": "athletic-compact",
   "metadata": {},
   "outputs": [],
   "source": [
    "join.dtypes"
   ]
  },
  {
   "cell_type": "code",
   "execution_count": null,
   "id": "expensive-truck",
   "metadata": {},
   "outputs": [],
   "source": [
    "# create new dataframe for grouping CPP data into tracts\n",
    "powerplants_by_tract_spatial = join.FIPS.value_counts().rename_axis('FIPS').reset_index(name='powerplant_count')\n",
    "powerplants_by_tract_spatial.head(20)"
   ]
  },
  {
   "cell_type": "code",
   "execution_count": null,
   "id": "fancy-hopkins",
   "metadata": {},
   "outputs": [],
   "source": [
    "# join the summary table to main gdf\n",
    "ces_spatial=ces_spatial.merge(powerplants_by_tract_spatial,on='FIPS')"
   ]
  },
  {
   "cell_type": "code",
   "execution_count": null,
   "id": "numerical-creature",
   "metadata": {},
   "outputs": [],
   "source": [
    "ces_spatial.head()"
   ]
  },
  {
   "cell_type": "code",
   "execution_count": null,
   "id": "threatened-victoria",
   "metadata": {},
   "outputs": [],
   "source": [
    "# map the top 20 census tracts\n",
    "fig,ax = plt.subplots(figsize=(10,10))\n",
    "ces_spatial.sort_values(by='powerplant_count',ascending=False).plot(ax=ax,\n",
    "                                                                 color='red',\n",
    "                                                                 edgecolor='white',\n",
    "                                                                 alpha=0.5,\n",
    "                                                                 legend=True)\n",
    "\n",
    "# title\n",
    "ax.set_title('All power plants')\n",
    "\n",
    "# no axis\n",
    "ax.axis('off')\n",
    "\n",
    "# add a basemap\n",
    "ctx.add_basemap(ax,source=ctx.providers.CartoDB.Positron)"
   ]
  },
  {
   "cell_type": "markdown",
   "id": "interior-intention",
   "metadata": {},
   "source": [
    "## Spatial autocorrelation for all power plants"
   ]
  },
  {
   "cell_type": "markdown",
   "id": "impossible-portsmouth",
   "metadata": {},
   "source": [
    "### Spatial lag for all power plants"
   ]
  },
  {
   "cell_type": "code",
   "execution_count": null,
   "id": "vocational-vegetable",
   "metadata": {},
   "outputs": [],
   "source": [
    "# calculate spatial weight\n",
    "wq =  lps.weights.KNN.from_dataframe(ces_spatial,k=8)\n",
    "\n",
    "# Row-standardization\n",
    "wq.transform = 'r'"
   ]
  },
  {
   "cell_type": "code",
   "execution_count": null,
   "id": "dramatic-citation",
   "metadata": {},
   "outputs": [],
   "source": [
    "ces_spatial.sample(5)"
   ]
  },
  {
   "cell_type": "code",
   "execution_count": null,
   "id": "arabic-gross",
   "metadata": {},
   "outputs": [],
   "source": [
    "# create a new column for the spatial lag\n",
    "ces_spatial['powerplant_count_lag'] = lps.weights.lag_spatial(wq, ces_spatial['powerplant_count'])"
   ]
  },
  {
   "cell_type": "code",
   "execution_count": null,
   "id": "foreign-stereo",
   "metadata": {},
   "outputs": [],
   "source": [
    "# create a column that calculates the difference betwen powerplant counts and lag\n",
    "ces_spatial['powerplant_count_lag_diff'] = ces_spatial['powerplant_count'] - ces_spatial['powerplant_count_lag']"
   ]
  },
  {
   "cell_type": "code",
   "execution_count": null,
   "id": "palestinian-basics",
   "metadata": {},
   "outputs": [],
   "source": [
    "# check work\n",
    "ces_spatial.sample(10)[['FIPS','County','geometry','powerplant_count','powerplant_count_lag']]"
   ]
  },
  {
   "cell_type": "code",
   "execution_count": null,
   "id": "favorite-operator",
   "metadata": {},
   "outputs": [],
   "source": [
    "# sort by lag differences\n",
    "ces_spatial.sort_values(by='powerplant_count_lag_diff')"
   ]
  },
  {
   "cell_type": "code",
   "execution_count": null,
   "id": "thick-enough",
   "metadata": {},
   "outputs": [],
   "source": [
    "fig,ax = plt.subplots(figsize=(15,15))\n",
    "\n",
    "ces_spatial.plot(ax=ax,\n",
    "        column='powerplant_count',\n",
    "        legend=True,\n",
    "        alpha=0.8,\n",
    "         #underscore r reverses the scheme, so that green becomes low numbers and red high\n",
    "        cmap='RdYlGn_r',\n",
    "         #quntiles makes sure the data is divided equally\n",
    "        scheme='naturalbreaks')\n",
    "                   \n",
    "ax.axis('off')\n",
    "\n",
    "ax.set_title('All Power Plants',fontsize=22)\n",
    "\n",
    "ctx.add_basemap(ax,source=ctx.providers.CartoDB.Positron)"
   ]
  },
  {
   "cell_type": "code",
   "execution_count": null,
   "id": "structural-consolidation",
   "metadata": {},
   "outputs": [],
   "source": [
    "# plot the spatial lag with a chloropleth map\n",
    "fig, ax = plt.subplots(figsize=(8, 8))\n",
    "\n",
    "ces_spatial.plot(ax=ax,\n",
    "         figsize=(15,15),\n",
    "         column='powerplant_count_lag',\n",
    "         legend=True,\n",
    "         alpha=0.8,\n",
    "         cmap='RdYlGn_r',\n",
    "         scheme='naturalbreaks')\n",
    "\n",
    "ax.axis('off')\n",
    "ax.set_title('Powerplants spatial lag',fontsize=22)\n",
    "\n",
    "ctx.add_basemap(ax,source=ctx.providers.CartoDB.Positron)"
   ]
  },
  {
   "cell_type": "markdown",
   "id": "regional-currency",
   "metadata": {},
   "source": [
    "### Moran's I Plot for all powerplants"
   ]
  },
  {
   "cell_type": "code",
   "execution_count": null,
   "id": "figured-third",
   "metadata": {},
   "outputs": [],
   "source": [
    "y = ces_spatial.powerplant_count\n",
    "moran = Moran(y, wq)\n",
    "moran.I"
   ]
  },
  {
   "cell_type": "code",
   "execution_count": null,
   "id": "leading-newsletter",
   "metadata": {},
   "outputs": [],
   "source": [
    "# Create a scatterplot of the Moran's plot\n",
    "fig, ax = moran_scatterplot(moran, aspect_equal=True)\n",
    "plt.show()"
   ]
  },
  {
   "cell_type": "markdown",
   "id": "christian-revolution",
   "metadata": {},
   "source": [
    "We don't know if our value of 0.145 is statistically significant or not. To do that, we need to calculate the p-value."
   ]
  },
  {
   "cell_type": "code",
   "execution_count": null,
   "id": "proper-glenn",
   "metadata": {},
   "outputs": [],
   "source": [
    "moran.p_sim"
   ]
  },
  {
   "cell_type": "markdown",
   "id": "accepting-metropolitan",
   "metadata": {},
   "source": [
    "This is a very low p-value, indicating that there's a 0.1% chance our data could be randomly arranged this way. It means our Moran's I-value is statistically significant.\n",
    "\n",
    "We want to look at where clusters are. We'll use the Local Indicators of Spatial Association (LISA) model. LISA classifies areas into four groups: high values near to high values (HH), Low values with nearby low values (LL), Low values with high values in its neighborhood, and vice-versa."
   ]
  },
  {
   "cell_type": "code",
   "execution_count": null,
   "id": "exciting-vegetarian",
   "metadata": {},
   "outputs": [],
   "source": [
    "# calculate local moran values\n",
    "lisa = esda.moran.Moran_Local(y, wq)"
   ]
  },
  {
   "cell_type": "code",
   "execution_count": null,
   "id": "grave-ballot",
   "metadata": {},
   "outputs": [],
   "source": [
    "# Plot\n",
    "fig,ax = plt.subplots(figsize=(10,10))\n",
    "\n",
    "moran_scatterplot(lisa, ax=ax, p=0.05)\n",
    "ax.set_xlabel(\"Powerplants\")\n",
    "ax.set_ylabel('Spatial Lag of Powerplants')\n",
    "\n",
    "# add labels\n",
    "plt.text(1.95, 0.5, \"HH\", fontsize=25)\n",
    "plt.text(1.95, -1, \"HL\", fontsize=25)\n",
    "plt.text(-2, 1, \"LH\", fontsize=25)\n",
    "plt.text(-1, -1, \"LL\", fontsize=25)\n",
    "plt.show()"
   ]
  },
  {
   "cell_type": "markdown",
   "id": "developed-fisher",
   "metadata": {},
   "source": [
    "In the scatterplot above, the yellow dots represent the census tract that have a P-value less that 0.05. We have several statistically significantly spatially autocorrelated geographies. Below, we'll visualize this."
   ]
  },
  {
   "cell_type": "code",
   "execution_count": null,
   "id": "measured-iceland",
   "metadata": {
    "scrolled": true
   },
   "outputs": [],
   "source": [
    "# use LISA cluster function\n",
    "fig, ax = plt.subplots(figsize=(10,10))\n",
    "lisa_cluster(lisa, ces_spatial, p=0.05, ax=ax)\n",
    "\n",
    "\n",
    "ctx.add_basemap(ax,source=ctx.providers.CartoDB.Positron)\n",
    "\n",
    "ax.set_title('All Power Plants\\n Statistically Significant Clusters',fontsize=22)\n",
    "\n",
    "plt.show()"
   ]
  },
  {
   "cell_type": "code",
   "execution_count": null,
   "id": "civic-department",
   "metadata": {},
   "outputs": [],
   "source": [
    "#creates new columns in df for significance\n",
    "sig = 1 * (lisa.p_sim < 0.05)\n",
    "ces_spatial['p-sim'] = lisa.p_sim\n",
    "ces_spatial['sig'] = sig\n",
    "ces_spatial[['sig','p-sim']].head()\n",
    "\n",
    "#subset to only keep significant tracts\n",
    "all_pp_sig = ces_spatial[ces_spatial['p-sim'] < 0.05]\n",
    "all_pp_sig"
   ]
  },
  {
   "cell_type": "code",
   "execution_count": null,
   "id": "demonstrated-native",
   "metadata": {},
   "outputs": [],
   "source": [
    "latitude = join.Lat.mean()\n",
    "latitude"
   ]
  },
  {
   "cell_type": "code",
   "execution_count": null,
   "id": "hazardous-housing",
   "metadata": {},
   "outputs": [],
   "source": [
    "longitude = join.Lon.mean()\n",
    "longitude"
   ]
  },
  {
   "cell_type": "code",
   "execution_count": null,
   "id": "handed-graphics",
   "metadata": {},
   "outputs": [],
   "source": [
    "m = folium.Map(location=[latitude,longitude], zoom_start=11)\n",
    "m"
   ]
  },
  {
   "cell_type": "code",
   "execution_count": null,
   "id": "returning-morgan",
   "metadata": {},
   "outputs": [],
   "source": [
    "#bins_interval = [0, 20, 30, 40, 50, 60, 70, 80, 100]\n",
    "m10 = folium.Map(location=[33.99169246896552, -117.272919], \n",
    "               zoom_start = 10,\n",
    "               tiles='CartoDB positron')\n",
    "choropleth = folium.Choropleth(\n",
    "                  geo_data=ces_spatial, \n",
    "                  data=all_pp_sig,         \n",
    "                  key_on='feature.properties.FIPS',\n",
    "                  columns=['FIPS', 'powerplant_count_lag'],\n",
    "                  fill_color='YlOrRd',\n",
    "                  line_weight=.5, \n",
    "                  line_color='#252525',\n",
    "                  fill_opacity=0.5,\n",
    "                  line_opacity=1,\n",
    "                  nan_fill_color='grey',\n",
    "                  nan_fill_opacity=0,\n",
    "                  #bins=[float(x) for x in bins_interval],\n",
    "                  ).add_to(m10)   \n",
    "choropleth.geojson.add_child(\n",
    "    folium.features.GeoJsonTooltip(['powerplant_count'],labels=True)\n",
    ")\n",
    "m10"
   ]
  },
  {
   "cell_type": "code",
   "execution_count": null,
   "id": "another-record",
   "metadata": {},
   "outputs": [],
   "source": [
    "m10.save('All_PP_Sig.html')"
   ]
  },
  {
   "cell_type": "markdown",
   "id": "loving-tackle",
   "metadata": {},
   "source": [
    "## Fossil fuel spatial analysis"
   ]
  },
  {
   "cell_type": "code",
   "execution_count": null,
   "id": "fatal-latvia",
   "metadata": {},
   "outputs": [],
   "source": [
    "# create dataframe for fossil fuel energy\n",
    "join_ff = join[join.Renewable_Energy != '1']"
   ]
  },
  {
   "cell_type": "code",
   "execution_count": null,
   "id": "pressed-smell",
   "metadata": {},
   "outputs": [],
   "source": [
    "join_ff.shape"
   ]
  },
  {
   "cell_type": "code",
   "execution_count": null,
   "id": "authorized-symbol",
   "metadata": {},
   "outputs": [],
   "source": [
    "# create new dataframe for grouping CPP data into tracts\n",
    "ff_bytract_spatial = join_ff.FIPS.value_counts().rename_axis('FIPS').reset_index(name='ff_count')\n",
    "ff_bytract_spatial.head(20)"
   ]
  },
  {
   "cell_type": "code",
   "execution_count": null,
   "id": "central-hybrid",
   "metadata": {},
   "outputs": [],
   "source": [
    "# create new dataframe to run separate Moran's\n",
    "ces_spatial_ff=ces_spatial.copy()"
   ]
  },
  {
   "cell_type": "code",
   "execution_count": null,
   "id": "extreme-belize",
   "metadata": {},
   "outputs": [],
   "source": [
    "ces_spatial_ff.head()"
   ]
  },
  {
   "cell_type": "code",
   "execution_count": null,
   "id": "chronic-frost",
   "metadata": {},
   "outputs": [],
   "source": [
    "# delete powerplant columns\n",
    "del ces_spatial_ff['powerplant_count']"
   ]
  },
  {
   "cell_type": "code",
   "execution_count": null,
   "id": "alleged-genre",
   "metadata": {},
   "outputs": [],
   "source": [
    "del ces_spatial_ff['powerplant_count_lag']"
   ]
  },
  {
   "cell_type": "code",
   "execution_count": null,
   "id": "separated-natural",
   "metadata": {},
   "outputs": [],
   "source": [
    "del ces_spatial_ff['powerplant_count_lag_diff']"
   ]
  },
  {
   "cell_type": "code",
   "execution_count": null,
   "id": "enclosed-bracelet",
   "metadata": {
    "scrolled": false
   },
   "outputs": [],
   "source": [
    "ces_spatial_ff.head()"
   ]
  },
  {
   "cell_type": "code",
   "execution_count": null,
   "id": "assigned-trigger",
   "metadata": {},
   "outputs": [],
   "source": [
    "# join the summary table to main gdf\n",
    "ces_spatial_ff=ces_spatial_ff.merge(ff_bytract_spatial,on='FIPS')"
   ]
  },
  {
   "cell_type": "code",
   "execution_count": null,
   "id": "distant-sport",
   "metadata": {},
   "outputs": [],
   "source": [
    "ces_spatial_ff.head()"
   ]
  },
  {
   "cell_type": "code",
   "execution_count": null,
   "id": "saved-apparel",
   "metadata": {},
   "outputs": [],
   "source": [
    "# map the top 20 census tracts\n",
    "fig,ax = plt.subplots(figsize=(10,10))\n",
    "ces_spatial_ff.sort_values(by='ff_count',ascending=False)[:20].plot(ax=ax,\n",
    "                                                                 color='red',\n",
    "                                                                 edgecolor='white',\n",
    "                                                                 alpha=0.5,\n",
    "                                                                 legend=True)\n",
    "\n",
    "# title\n",
    "ax.set_title('Top 20 tracts of fossil fuel power plants')\n",
    "\n",
    "# no axis\n",
    "ax.axis('off')\n",
    "\n",
    "# add a basemap\n",
    "ctx.add_basemap(ax,source=ctx.providers.CartoDB.Positron)"
   ]
  },
  {
   "cell_type": "markdown",
   "id": "naval-reservoir",
   "metadata": {},
   "source": [
    "### Spatial lag for fossil fuel power plants"
   ]
  },
  {
   "cell_type": "code",
   "execution_count": null,
   "id": "continuous-fellowship",
   "metadata": {},
   "outputs": [],
   "source": [
    "# calculate spatial weight\n",
    "wq =  lps.weights.KNN.from_dataframe(ces_spatial_ff,k=8)\n",
    "\n",
    "# Row-standardization\n",
    "wq.transform = 'r'"
   ]
  },
  {
   "cell_type": "code",
   "execution_count": null,
   "id": "ethical-relief",
   "metadata": {},
   "outputs": [],
   "source": [
    "# create a new column for the spatial lag\n",
    "ces_spatial_ff['ff_count_lag'] = lps.weights.lag_spatial(wq, ces_spatial_ff['ff_count'])"
   ]
  },
  {
   "cell_type": "code",
   "execution_count": null,
   "id": "ceramic-birth",
   "metadata": {},
   "outputs": [],
   "source": [
    "# create a column that calculates the difference betwen powerplant counts and lag\n",
    "ces_spatial_ff['ff_count_lag_diff'] = ces_spatial_ff['ff_count'] - ces_spatial_ff['ff_count_lag']"
   ]
  },
  {
   "cell_type": "code",
   "execution_count": null,
   "id": "entire-offset",
   "metadata": {},
   "outputs": [],
   "source": [
    "# check work\n",
    "ces_spatial_ff.sample(10)[['FIPS','County','geometry','ff_count','ff_count_lag']]"
   ]
  },
  {
   "cell_type": "code",
   "execution_count": null,
   "id": "modular-round",
   "metadata": {},
   "outputs": [],
   "source": [
    "# sort by lag differences\n",
    "ces_spatial_ff.sort_values(by='ff_count_lag_diff')"
   ]
  },
  {
   "cell_type": "code",
   "execution_count": null,
   "id": "studied-latex",
   "metadata": {},
   "outputs": [],
   "source": [
    "# plot the spatial lag with a chloropleth map\n",
    "fig, ax = plt.subplots(figsize=(8, 8))\n",
    "\n",
    "ces_spatial_ff.plot(ax=ax,\n",
    "         figsize=(15,15),\n",
    "         column='ff_count_lag',\n",
    "         legend=True,\n",
    "         alpha=0.8,\n",
    "         cmap='RdYlGn_r',\n",
    "         scheme='quantiles')\n",
    "\n",
    "ax.axis('off')\n",
    "ax.set_title('Fossil fuel plants spatial lag',fontsize=22)\n",
    "\n",
    "ctx.add_basemap(ax,source=ctx.providers.CartoDB.Positron)"
   ]
  },
  {
   "cell_type": "markdown",
   "id": "fifteen-underwear",
   "metadata": {},
   "source": [
    "### Moran's I for fossil fuel plants"
   ]
  },
  {
   "cell_type": "code",
   "execution_count": null,
   "id": "bearing-google",
   "metadata": {},
   "outputs": [],
   "source": [
    "y = ces_spatial_ff.ff_count\n",
    "moran = Moran(y, wq)\n",
    "moran.I"
   ]
  },
  {
   "cell_type": "code",
   "execution_count": null,
   "id": "polish-compensation",
   "metadata": {},
   "outputs": [],
   "source": [
    "# Create a scatterplot of the Moran's plot\n",
    "fig, ax = moran_scatterplot(moran, aspect_equal=True)\n",
    "plt.show()"
   ]
  },
  {
   "cell_type": "code",
   "execution_count": null,
   "id": "pressed-bacteria",
   "metadata": {},
   "outputs": [],
   "source": [
    "# calculate p-value\n",
    "moran.p_sim"
   ]
  },
  {
   "cell_type": "code",
   "execution_count": null,
   "id": "speaking-security",
   "metadata": {},
   "outputs": [],
   "source": [
    "# calculate local moran values\n",
    "lisa = esda.moran.Moran_Local(y, wq)"
   ]
  },
  {
   "cell_type": "code",
   "execution_count": null,
   "id": "covered-gardening",
   "metadata": {},
   "outputs": [],
   "source": [
    "# Plot\n",
    "fig,ax = plt.subplots(figsize=(10,10))\n",
    "\n",
    "moran_scatterplot(lisa, ax=ax, p=0.05)\n",
    "ax.set_xlabel(\"Powerplants\")\n",
    "ax.set_ylabel('Spatial Lag of Powerplants')\n",
    "\n",
    "# add labels\n",
    "plt.text(1.95, 0.5, \"HH\", fontsize=25)\n",
    "plt.text(1.95, -1, \"HL\", fontsize=25)\n",
    "plt.text(-2, 1, \"LH\", fontsize=25)\n",
    "plt.text(-1, -1, \"LL\", fontsize=25)\n",
    "plt.show()"
   ]
  },
  {
   "cell_type": "code",
   "execution_count": null,
   "id": "presidential-novelty",
   "metadata": {},
   "outputs": [],
   "source": [
    "# use LISA cluster function\n",
    "fig, ax = plt.subplots(figsize=(8,8))\n",
    "lisa_cluster(lisa, ces_spatial_ff, p=0.05, ax=ax)\n",
    "ctx.add_basemap(ax,source=ctx.providers.CartoDB.Positron)\n",
    "plt.show()"
   ]
  },
  {
   "cell_type": "markdown",
   "id": "wireless-alberta",
   "metadata": {},
   "source": [
    "## Spatial analysis for clean energy plants"
   ]
  },
  {
   "cell_type": "code",
   "execution_count": null,
   "id": "advance-calculation",
   "metadata": {},
   "outputs": [],
   "source": [
    "# create dataframe for clean energy\n",
    "join_ce = join[join.Renewable_Energy == '1']"
   ]
  },
  {
   "cell_type": "code",
   "execution_count": null,
   "id": "remarkable-saturn",
   "metadata": {},
   "outputs": [],
   "source": [
    "join_ce.shape"
   ]
  },
  {
   "cell_type": "code",
   "execution_count": null,
   "id": "least-roller",
   "metadata": {},
   "outputs": [],
   "source": [
    "# create new dataframe for grouping CPP data into tracts\n",
    "ce_bytract_spatial = join_ce.FIPS.value_counts().rename_axis('FIPS').reset_index(name='ce_count')\n",
    "ce_bytract_spatial.head(20)"
   ]
  },
  {
   "cell_type": "code",
   "execution_count": null,
   "id": "configured-revolution",
   "metadata": {},
   "outputs": [],
   "source": [
    "# create new dataframe to run separate Moran's\n",
    "ces_spatial_ce=ces_spatial.copy()"
   ]
  },
  {
   "cell_type": "code",
   "execution_count": null,
   "id": "voluntary-extension",
   "metadata": {},
   "outputs": [],
   "source": [
    "ces_spatial_ce.head()"
   ]
  },
  {
   "cell_type": "code",
   "execution_count": null,
   "id": "experienced-syndrome",
   "metadata": {},
   "outputs": [],
   "source": [
    "del ces_spatial_ce['powerplant_count']"
   ]
  },
  {
   "cell_type": "code",
   "execution_count": null,
   "id": "polish-circular",
   "metadata": {},
   "outputs": [],
   "source": [
    "del ces_spatial_ce['powerplant_count_lag']"
   ]
  },
  {
   "cell_type": "code",
   "execution_count": null,
   "id": "confused-romance",
   "metadata": {},
   "outputs": [],
   "source": [
    "del ces_spatial_ce['powerplant_count_lag_diff']"
   ]
  },
  {
   "cell_type": "code",
   "execution_count": null,
   "id": "affecting-prague",
   "metadata": {},
   "outputs": [],
   "source": [
    "# join the summary table to main gdf\n",
    "ces_spatial_ce=ces_spatial_ce.merge(ce_bytract_spatial,on='FIPS')"
   ]
  },
  {
   "cell_type": "code",
   "execution_count": null,
   "id": "tight-labor",
   "metadata": {},
   "outputs": [],
   "source": [
    "ces_spatial_ce.head()"
   ]
  },
  {
   "cell_type": "code",
   "execution_count": null,
   "id": "religious-purpose",
   "metadata": {},
   "outputs": [],
   "source": [
    "# map the top 20 census tracts\n",
    "fig,ax = plt.subplots(figsize=(10,10))\n",
    "ces_spatial_ce.sort_values(by='ce_count',ascending=False)[:20].plot(ax=ax,\n",
    "                                                                 color='red',\n",
    "                                                                 edgecolor='white',\n",
    "                                                                 alpha=0.5,\n",
    "                                                                 legend=True)\n",
    "\n",
    "# title\n",
    "ax.set_title('Top 20 tracts of clean energy power plants')\n",
    "\n",
    "# no axis\n",
    "ax.axis('off')\n",
    "\n",
    "# add a basemap\n",
    "ctx.add_basemap(ax,source=ctx.providers.CartoDB.Positron)"
   ]
  },
  {
   "cell_type": "code",
   "execution_count": null,
   "id": "junior-tobago",
   "metadata": {},
   "outputs": [],
   "source": [
    "fig,ax = plt.subplots(figsize=(12,12))\n",
    "\n",
    "ces_spatial_ce.plot(ax=ax,\n",
    "        column='ce_count',\n",
    "        legend=True,\n",
    "        alpha=0.8,\n",
    "         #underscore r reverses the scheme, so that green becomes low numbers and red high\n",
    "        cmap='RdYlGn_r',\n",
    "         #quntiles makes sure the data is divided equally\n",
    "        scheme='naturalbreaks')\n",
    "                   \n",
    "ax.axis('off')\n",
    "\n",
    "ax.set_title('Clean Energy Plants',fontsize=22)\n",
    "\n",
    "ctx.add_basemap(ax,source=ctx.providers.CartoDB.Positron)"
   ]
  },
  {
   "cell_type": "markdown",
   "id": "extensive-resident",
   "metadata": {},
   "source": [
    "### Spatial weight for clean energy"
   ]
  },
  {
   "cell_type": "code",
   "execution_count": null,
   "id": "architectural-norway",
   "metadata": {},
   "outputs": [],
   "source": [
    "# calculate spatial weight\n",
    "wq =  lps.weights.KNN.from_dataframe(ces_spatial_ce,k=8)\n",
    "\n",
    "# Row-standardization\n",
    "wq.transform = 'r'"
   ]
  },
  {
   "cell_type": "code",
   "execution_count": null,
   "id": "saving-mortgage",
   "metadata": {},
   "outputs": [],
   "source": [
    "# create a new column for the spatial lag\n",
    "ces_spatial_ce['ce_count_lag'] = lps.weights.lag_spatial(wq, ces_spatial_ce['ce_count'])"
   ]
  },
  {
   "cell_type": "code",
   "execution_count": null,
   "id": "temporal-committee",
   "metadata": {},
   "outputs": [],
   "source": [
    "# create a column that calculates the difference betwen powerplant counts and lag\n",
    "ces_spatial_ce['ce_count_lag_diff'] = ces_spatial_ce['ce_count'] - ces_spatial_ce['ce_count_lag']"
   ]
  },
  {
   "cell_type": "code",
   "execution_count": null,
   "id": "outdoor-supplement",
   "metadata": {},
   "outputs": [],
   "source": [
    "# check work\n",
    "ces_spatial_ce.sample(10)[['FIPS','County','geometry','ce_count','ce_count_lag']]"
   ]
  },
  {
   "cell_type": "code",
   "execution_count": null,
   "id": "sealed-language",
   "metadata": {},
   "outputs": [],
   "source": [
    "# sort by lag differences\n",
    "ces_spatial_ce.sort_values(by='ce_count_lag_diff')"
   ]
  },
  {
   "cell_type": "code",
   "execution_count": null,
   "id": "falling-pontiac",
   "metadata": {},
   "outputs": [],
   "source": [
    "# plot the spatial lag with a chloropleth map\n",
    "fig, ax = plt.subplots(figsize=(8, 8))\n",
    "\n",
    "ces_spatial_ce.plot(ax=ax,\n",
    "         figsize=(15,15),\n",
    "         column='ce_count_lag',\n",
    "         legend=True,\n",
    "         alpha=0.8,\n",
    "         cmap='RdYlGn_r',\n",
    "         scheme='quantiles')\n",
    "\n",
    "ax.axis('off')\n",
    "ax.set_title('Clean energy spatial lag',fontsize=22)\n",
    "\n",
    "ctx.add_basemap(ax,source=ctx.providers.CartoDB.Positron)"
   ]
  },
  {
   "cell_type": "markdown",
   "id": "antique-address",
   "metadata": {},
   "source": [
    "### Moran's I for clean energy"
   ]
  },
  {
   "cell_type": "code",
   "execution_count": null,
   "id": "becoming-arena",
   "metadata": {},
   "outputs": [],
   "source": [
    "y = ces_spatial_ce.ce_count\n",
    "moran = Moran(y, wq)\n",
    "moran.I"
   ]
  },
  {
   "cell_type": "code",
   "execution_count": null,
   "id": "double-conservation",
   "metadata": {},
   "outputs": [],
   "source": [
    "# Create a scatterplot of the Moran's plot\n",
    "fig, ax = moran_scatterplot(moran, aspect_equal=True)\n",
    "plt.show()"
   ]
  },
  {
   "cell_type": "code",
   "execution_count": null,
   "id": "split-albania",
   "metadata": {},
   "outputs": [],
   "source": [
    "moran.p_sim"
   ]
  },
  {
   "cell_type": "code",
   "execution_count": null,
   "id": "comparable-african",
   "metadata": {},
   "outputs": [],
   "source": [
    "# calculate local moran values\n",
    "lisa = esda.moran.Moran_Local(y, wq)"
   ]
  },
  {
   "cell_type": "code",
   "execution_count": null,
   "id": "psychological-executive",
   "metadata": {},
   "outputs": [],
   "source": [
    "# Plot\n",
    "fig,ax = plt.subplots(figsize=(10,10))\n",
    "\n",
    "moran_scatterplot(lisa, ax=ax, p=0.05)\n",
    "ax.set_xlabel(\"Powerplants\")\n",
    "ax.set_ylabel('Spatial Lag of Powerplants')\n",
    "\n",
    "# add labels\n",
    "plt.text(1.95, 0.5, \"HH\", fontsize=25)\n",
    "plt.text(1.95, -1, \"HL\", fontsize=25)\n",
    "plt.text(-2, 1, \"LH\", fontsize=25)\n",
    "plt.text(-1, -1, \"LL\", fontsize=25)\n",
    "plt.show()"
   ]
  },
  {
   "cell_type": "code",
   "execution_count": null,
   "id": "constant-tobago",
   "metadata": {
    "scrolled": true
   },
   "outputs": [],
   "source": [
    "# use LISA cluster function\n",
    "fig, ax = plt.subplots(figsize=(8,8))\n",
    "lisa_cluster(lisa, ces_spatial_ce, p=0.05, ax=ax)\n",
    "ax.set_title('Clean Energy Plants\\n Statistically Significant Clusters')\n",
    "ctx.add_basemap(ax,source=ctx.providers.CartoDB.Positron)\n",
    "plt.show()"
   ]
  },
  {
   "cell_type": "code",
   "execution_count": null,
   "id": "scientific-boxing",
   "metadata": {},
   "outputs": [],
   "source": [
    "#creates new columns in df for significance\n",
    "sig = 1 * (lisa.p_sim < 0.05)\n",
    "ces_spatial_ce['p-sim'] = lisa.p_sim\n",
    "ces_spatial_ce['sig'] = sig\n",
    "ces_spatial_ce[['sig','p-sim']].head()\n",
    "\n",
    "#subset to only keep significant tracts\n",
    "ce_sig = ces_spatial_ce[ces_spatial_ce['p-sim'] < 0.05]\n",
    "ce_sig"
   ]
  },
  {
   "cell_type": "code",
   "execution_count": null,
   "id": "geographic-rachel",
   "metadata": {},
   "outputs": [],
   "source": [
    "latitude = join_ce.Lat.mean()\n",
    "latitude"
   ]
  },
  {
   "cell_type": "code",
   "execution_count": null,
   "id": "handled-photography",
   "metadata": {},
   "outputs": [],
   "source": [
    "longitude = join_ce.Lon.mean()\n",
    "longitude"
   ]
  },
  {
   "cell_type": "code",
   "execution_count": null,
   "id": "hybrid-attitude",
   "metadata": {},
   "outputs": [],
   "source": [
    "m = folium.Map(location=[latitude,longitude], zoom_start=11)\n",
    "m"
   ]
  },
  {
   "cell_type": "code",
   "execution_count": null,
   "id": "republican-anger",
   "metadata": {},
   "outputs": [],
   "source": [
    "#bins_interval = [0, 20, 30, 40, 50, 60, 70, 80, 100]\n",
    "m10_2 = folium.Map(location=[33.99169246896552, -117.272919], \n",
    "               zoom_start = 10,\n",
    "               tiles='CartoDB positron')\n",
    "choropleth = folium.Choropleth(\n",
    "                  geo_data=ces_spatial_ce, \n",
    "                  data=ce_sig,         \n",
    "                  key_on='feature.properties.FIPS',\n",
    "                  columns=['FIPS', 'ce_count_lag'],\n",
    "                  fill_color='YlOrRd',\n",
    "                  line_weight=.5, \n",
    "                  line_color='#252525',\n",
    "                  fill_opacity=0.5,\n",
    "                  line_opacity=1,\n",
    "                  nan_fill_color='grey',\n",
    "                  nan_fill_opacity=0,\n",
    "                  #bins=[float(x) for x in bins_interval],\n",
    "                  ).add_to(m10_2)   \n",
    "choropleth.geojson.add_child(\n",
    "    folium.features.GeoJsonTooltip(['ce_count'],labels=True)\n",
    ")\n",
    "m10_2"
   ]
  },
  {
   "cell_type": "code",
   "execution_count": null,
   "id": "bored-learning",
   "metadata": {},
   "outputs": [],
   "source": [
    "m10_2.save('CESig.html')"
   ]
  },
  {
   "cell_type": "code",
   "execution_count": null,
   "id": "third-following",
   "metadata": {},
   "outputs": [],
   "source": []
  }
 ],
 "metadata": {
  "kernelspec": {
   "display_name": "Python 3",
   "language": "python",
   "name": "python3"
  },
  "language_info": {
   "codemirror_mode": {
    "name": "ipython",
    "version": 3
   },
   "file_extension": ".py",
   "mimetype": "text/x-python",
   "name": "python",
   "nbconvert_exporter": "python",
   "pygments_lexer": "ipython3",
   "version": "3.8.5"
  },
  "toc": {
   "base_numbering": 1,
   "nav_menu": {},
   "number_sections": true,
   "sideBar": true,
   "skip_h1_title": false,
   "title_cell": "Table of Contents",
   "title_sidebar": "Contents",
   "toc_cell": false,
   "toc_position": {},
   "toc_section_display": true,
   "toc_window_display": false
  }
 },
 "nbformat": 4,
 "nbformat_minor": 5
}
