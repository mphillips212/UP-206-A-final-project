{
 "cells": [
  {
   "cell_type": "markdown",
   "metadata": {},
   "source": [
    "# Interactive Plotly Map: Environmental Burden (CES) and Power Plants \n",
    "\n",
    "### Author: Rachel Lu\n",
    "\n",
    "### Description\n",
    "This notebook is specifically to create an interactive plotly map that:\n",
    "1) has hover functionality that identifies each plant location's CES percentile, fuel type, jobs, and project location; \n",
    "2) uses a cloropleth base map based on CES percentile; \n",
    "3) has different marker colors based on whether the plant is Clean Energy or Fossil Fuel.\n",
    "\n",
    "Because it takes so much data, it had to be separated out into a different notebook."
   ]
  },
  {
   "cell_type": "markdown",
   "metadata": {},
   "source": [
    "# Import Libraries"
   ]
  },
  {
   "cell_type": "code",
   "execution_count": null,
   "metadata": {},
   "outputs": [],
   "source": [
    "%matplotlib notebook\n",
    "# the usuals\n",
    "import geopandas as gpd\n",
    "import matplotlib.pyplot as plt\n",
    "import pandas as pd\n",
    "import contextily as ctx\n",
    "import plotly.express as px\n"
   ]
  },
  {
   "cell_type": "markdown",
   "metadata": {},
   "source": [
    "# Import Data\n",
    "\n",
    "Import California Power Plant dataset. "
   ]
  },
  {
   "cell_type": "code",
   "execution_count": null,
   "metadata": {},
   "outputs": [],
   "source": [
    "cpp = gpd.read_file('California_Power_Plants_MP Cleaned 3.1.21.csv')"
   ]
  },
  {
   "cell_type": "markdown",
   "metadata": {},
   "source": [
    "# Data Exploration"
   ]
  },
  {
   "cell_type": "markdown",
   "metadata": {},
   "source": [
    "Let's explore our data. "
   ]
  },
  {
   "cell_type": "code",
   "execution_count": null,
   "metadata": {},
   "outputs": [],
   "source": [
    "type(cpp)"
   ]
  },
  {
   "cell_type": "code",
   "execution_count": null,
   "metadata": {},
   "outputs": [],
   "source": [
    "cpp.shape"
   ]
  },
  {
   "cell_type": "markdown",
   "metadata": {},
   "source": [
    "Excellent, we have 871 power plants in our data set! \n",
    "\n",
    "Next, let's take a look at the data in our data set. "
   ]
  },
  {
   "cell_type": "code",
   "execution_count": null,
   "metadata": {},
   "outputs": [],
   "source": [
    "cpp.head(5)"
   ]
  },
  {
   "cell_type": "markdown",
   "metadata": {},
   "source": [
    "Looks like a few columns don't have much information in them. We'll delete them later. We also notice that there is no geometry data, so we'll have to change that when we clean the data below. "
   ]
  },
  {
   "cell_type": "code",
   "execution_count": null,
   "metadata": {},
   "outputs": [],
   "source": [
    "cpp.info()"
   ]
  },
  {
   "cell_type": "markdown",
   "metadata": {},
   "source": [
    "We notice that all the data types are objects. We'll have to convert some data types to floats or ints in order to work with them for our visualizations. "
   ]
  },
  {
   "cell_type": "markdown",
   "metadata": {},
   "source": [
    "# Clean Data"
   ]
  },
  {
   "cell_type": "markdown",
   "metadata": {},
   "source": [
    "Let's rename some of our columns so they're easier to work with and more intuitive. \n",
    "\n",
    "First, we print a list of all the columns in the CPP dataset. "
   ]
  },
  {
   "cell_type": "code",
   "execution_count": null,
   "metadata": {},
   "outputs": [],
   "source": [
    "list(cpp)"
   ]
  },
  {
   "cell_type": "markdown",
   "metadata": {},
   "source": [
    "Next, we rename the columns we'd like renamed"
   ]
  },
  {
   "cell_type": "code",
   "execution_count": null,
   "metadata": {},
   "outputs": [],
   "source": [
    "#rename\n",
    "cpp.columns = ['Plant_ID',\n",
    " 'Name',\n",
    " 'MW',\n",
    " 'Gross_MWh',\n",
    " 'Net_MWh',\n",
    " 'Fuel_Type',\n",
    " 'Status',\n",
    " 'Online_Year',\n",
    " 'REAT_ID',\n",
    " 'County',\n",
    " 'State',\n",
    " 'Energy_Type',\n",
    " 'Jobs',\n",
    " 'Senate_District',\n",
    " 'Assembly_District',\n",
    " 'Congressional_District',\n",
    " 'CES30_PercentileRange',\n",
    " 'CES30_Percentile',\n",
    " 'Lon',\n",
    " 'Lat',\n",
    " 'Operation_Job',\n",
    " 'Capacity_Factor',\n",
    " 'Income_Percent',\n",
    " 'Project_Location',\n",
    " 'geometry']\n",
    "\n",
    "#print to double check it worked. \n",
    "cpp.head(5)"
   ]
  },
  {
   "cell_type": "markdown",
   "metadata": {},
   "source": [
    "We rename the columns and print out the first 5 rows in the dataframe to double check that it worked. It worked. "
   ]
  },
  {
   "cell_type": "markdown",
   "metadata": {},
   "source": [
    "Let's drop some unnecessary columns from our dataset. "
   ]
  },
  {
   "cell_type": "code",
   "execution_count": null,
   "metadata": {},
   "outputs": [],
   "source": [
    "# define variable with desired columns \n",
    "desired_columns = [\n",
    " 'Name',\n",
    " 'Fuel_Type',\n",
    " 'Status',\n",
    " 'County',  \n",
    " 'State',\n",
    " 'Energy_Type',\n",
    " 'Jobs',\n",
    " 'CES30_PercentileRange',\n",
    " 'CES30_Percentile',\n",
    " 'Lon',\n",
    " 'Lat',\n",
    " 'Income_Percent',\n",
    " 'Project_Location',\n",
    " 'geometry']\n",
    "\n",
    "# redefine our dataframe with just our desired columns.\n",
    "\n",
    "cpp_trim = cpp[desired_columns].copy()\n",
    "\n",
    "# check out the new dataframe! \n",
    "cpp_trim.head(5)"
   ]
  },
  {
   "cell_type": "markdown",
   "metadata": {},
   "source": [
    "I created a new dataframe called cpp_trim with only desired columns. I check the work and yes, we have a new dataframe with only the columns we want! \n",
    "\n",
    "Next up, we remember that our data types are almost all object types. Let's convert some fields to floats so we can work with them in our visualizations and data analysis. "
   ]
  },
  {
   "cell_type": "code",
   "execution_count": null,
   "metadata": {},
   "outputs": [],
   "source": [
    "# We want to convert coordinates  and jobs to floats. \n",
    "\n",
    "cpp_trim.Lon = cpp_trim.Lon.astype('float')\n",
    "cpp_trim.Lat = cpp_trim.Lat.astype('float')\n",
    "cpp_trim.Jobs = cpp_trim.Jobs.astype('float')"
   ]
  },
  {
   "cell_type": "markdown",
   "metadata": {},
   "source": [
    "I also noticed that all the values under Renewable Energy column were 0s and 1s. We want them to be more intuitive, so we rename them. "
   ]
  },
  {
   "cell_type": "code",
   "execution_count": null,
   "metadata": {},
   "outputs": [],
   "source": [
    "# Rename values in Energy_Type, such that 0 = Fossil Fuel and 1 = Clean Energy. To do so, we create a dictionary. \n",
    "\n",
    "cpp_trim = cpp_trim.replace({'Energy_Type': {'0': 'Fossil Fuel', '1': 'Clean Energy'}})\n",
    "\n",
    "#check\n",
    "cpp_trim.head(3)\n"
   ]
  },
  {
   "cell_type": "markdown",
   "metadata": {},
   "source": [
    "It worked! \n",
    "\n",
    "Now, let's turn our lat long data points into geometry point data. "
   ]
  },
  {
   "cell_type": "code",
   "execution_count": null,
   "metadata": {},
   "outputs": [],
   "source": [
    "cpp_trim = gpd.GeoDataFrame(cpp_trim, \n",
    "                         crs='EPSG:4326',\n",
    "                         geometry=gpd.points_from_xy(cpp_trim.Lon, cpp_trim.Lat))\n",
    "\n",
    "cpp_trim.head(5)"
   ]
  },
  {
   "cell_type": "markdown",
   "metadata": {},
   "source": [
    "It worked, our geometry data column is now filled. "
   ]
  },
  {
   "cell_type": "code",
   "execution_count": null,
   "metadata": {},
   "outputs": [],
   "source": [
    "# check crs type\n",
    "\n",
    "cpp_trim.crs"
   ]
  },
  {
   "cell_type": "markdown",
   "metadata": {},
   "source": [
    "# CalEnviroScreen\n",
    "\n",
    "Our research question centers on whether fossil fuel and clean energy jobs are located in disadvantaged communities. Now it's time to overlay the fossil fuel data with CalEnviroScreen data to answer this question."
   ]
  },
  {
   "cell_type": "code",
   "execution_count": null,
   "metadata": {},
   "outputs": [],
   "source": [
    "gdf_ces = gpd.read_file('../CES3June2018Update.shp')"
   ]
  },
  {
   "cell_type": "markdown",
   "metadata": {},
   "source": [
    "# Explore Data"
   ]
  },
  {
   "cell_type": "markdown",
   "metadata": {},
   "source": [
    "I begin by exploring the data. Let's make sure that it's a geodataframe, check out the CRS type, and see what the data looks like. "
   ]
  },
  {
   "cell_type": "code",
   "execution_count": null,
   "metadata": {},
   "outputs": [],
   "source": [
    "type(gdf_ces)"
   ]
  },
  {
   "cell_type": "code",
   "execution_count": null,
   "metadata": {},
   "outputs": [],
   "source": [
    "gdf_ces.crs"
   ]
  },
  {
   "cell_type": "code",
   "execution_count": null,
   "metadata": {},
   "outputs": [],
   "source": [
    "gdf_ces.head()"
   ]
  },
  {
   "cell_type": "markdown",
   "metadata": {},
   "source": [
    "During my data exploration, I confirm that my dataframe is a geodataframe, CRS is EPSG:3310 and check out the first 5 rows of my data frame. I see a few things that could be cleaned up. \n",
    "\n"
   ]
  },
  {
   "cell_type": "markdown",
   "metadata": {},
   "source": [
    "# Data Cleaning\n"
   ]
  },
  {
   "cell_type": "code",
   "execution_count": null,
   "metadata": {},
   "outputs": [],
   "source": [
    "#define variable with desired columns \n",
    "columns_to_keep = ['tract', 'pop2010', 'California', 'ZIP', 'City', 'Longitude', 'Latitude', 'CIscore', 'CIscoreP', 'edu', 'eduP', 'pov', 'povP', 'unemp', 'unempP', 'Pop_11_64_', 'Elderly_ov', 'Hispanic_p', 'White_pct', 'African_Am', 'Native_Ame', 'Asian_Amer', 'Other_pct', 'geometry']\n",
    "\n",
    "#redfine dataframe with desired columns \n",
    "gdf_ces = gdf_ces[columns_to_keep]\n",
    "\n",
    "# check to make sure \n",
    "\n",
    "gdf_ces.head()"
   ]
  },
  {
   "cell_type": "markdown",
   "metadata": {},
   "source": [
    "\n",
    "## Sorting and mapping CES scores\n",
    "\n",
    "To continue exploring the data, I'm going to sort it. I want to see which counties have the highest CES score (that is, are most burdened by and vulnerable to environmental pollution). So I'll create a new dataframe."
   ]
  },
  {
   "cell_type": "code",
   "execution_count": null,
   "metadata": {},
   "outputs": [],
   "source": [
    "# to sort the data by CES score\n",
    "gdf_sortbyces = gdf_ces.sort_values(by='CIscore', ascending = False)\n",
    "\n",
    "# check my work \n",
    "gdf_sortbyces.head()"
   ]
  },
  {
   "cell_type": "code",
   "execution_count": null,
   "metadata": {},
   "outputs": [],
   "source": [
    "# create a new dataframe with just the columns I want. \n",
    "\n",
    "gdf_sortbyces[['California','City','CIscore','CIscoreP', 'geometry']]"
   ]
  },
  {
   "cell_type": "markdown",
   "metadata": {},
   "source": [
    "# Overlay Powerplants and CalEnviroScreen"
   ]
  },
  {
   "cell_type": "markdown",
   "metadata": {},
   "source": [
    "When we explored our CES data above, we discovered that it's CRS is in EPSG:3310, which is different from our CRS for the CPP dataset. Let's make sure they're in the same CRS. "
   ]
  },
  {
   "cell_type": "code",
   "execution_count": null,
   "metadata": {},
   "outputs": [],
   "source": [
    "#reproject gdf_sortbyces to web mercator. \n",
    "\n",
    "gdf_sortbyces = gdf_sortbyces.to_crs(epsg=4326)\n",
    "\n",
    "#reproject cpp_trim to web mercator\n",
    "cpp_trim = cpp_trim.to_crs(epsg=4326)\n",
    "\n",
    "# check work\n",
    "\n",
    "print(gdf_sortbyces.crs)"
   ]
  },
  {
   "cell_type": "code",
   "execution_count": null,
   "metadata": {},
   "outputs": [],
   "source": [
    "print(cpp_trim.crs)"
   ]
  },
  {
   "cell_type": "markdown",
   "metadata": {},
   "source": [
    "Next, let's create an interactive plotly map that allows us to hover. In class we learned how to do interactive plotly scatter maps, but here we add the additional layer of a plotly cloropleth map below our scatter map. \n",
    "\n",
    "In order to work with a plotly cloropleth map, we must convert our data to geojson, which we do below. "
   ]
  },
  {
   "cell_type": "code",
   "execution_count": null,
   "metadata": {},
   "outputs": [],
   "source": [
    "# convert shape file to geojson\n",
    "\n",
    "from ipywidgets import interact, interact_manual\n",
    "from shapely.geometry import LineString, MultiLineString\n",
    "import numpy as np\n",
    "import pyproj\n",
    "\n",
    "#gdf_sortbyces_plotly = gdf_sortbyces.to_crs(epsg=3857)\n",
    "gdf_sortbyces_plotly = gdf_sortbyces.to_crs(pyproj.CRS.from_epsg(4326))\n",
    "\n",
    "\n",
    "# using empet code to convert .shp to geoJSON\n",
    "def shapefile_to_geojson(gdf, index_list, tolerance=0.025):\n",
    "   # gdf - geopandas dataframe containing the geometry column and values to be mapped to a colorscale\n",
    "   # index_list - a sublist of list(gdf.index)  or gdf.index  for all data\n",
    "   # tolerance - float parameter to set the Polygon/MultiPolygon degree of simplification\n",
    "   # returns a geojson type dict\n",
    "\n",
    "   #geo_names = list(gdf[f'lad19nm']) # name of authorities\n",
    "   geojson = {'type': 'FeatureCollection', 'features': []}\n",
    "   for index in index_list:\n",
    "       geo = gdf['geometry'][index].simplify(tolerance)\n",
    "\n",
    "       if isinstance(geo.boundary, LineString):\n",
    "           gtype = 'Polygon'\n",
    "           bcoords = np.dstack(geo.boundary.coords.xy).tolist()\n",
    "\n",
    "       elif isinstance(geo.boundary, MultiLineString):\n",
    "           gtype = 'MultiPolygon'\n",
    "           bcoords = []\n",
    "           for b in geo.boundary:\n",
    "               x, y = b.coords.xy\n",
    "               coords = np.dstack((x,y)).tolist()\n",
    "               bcoords.append(coords)\n",
    "       else: pass\n",
    "\n",
    "\n",
    "\n",
    "       feature = {'type': 'Feature',\n",
    "                  'id' : index,\n",
    "                  'properties': {'name': 'test'},\n",
    "                  'geometry': {'type': gtype,\n",
    "                               'coordinates': bcoords},\n",
    "                   }\n",
    "\n",
    "       geojson['features'].append(feature)\n",
    "   return geojson\n",
    "\n",
    "geojson = shapefile_to_geojson(gdf_sortbyces_plotly, list(gdf_sortbyces_plotly.index), 0.0001)\n"
   ]
  },
  {
   "cell_type": "markdown",
   "metadata": {},
   "source": [
    "Great, we successfully convert our gdf_sortbyces data to geojson and defined a new dataframe geojson. \n",
    "\n",
    "Next up, I want to create a map that 1) has hover functionality that identifies each plant location's CES percentile, fuel type, jobs, and project location; 2) uses a cloropleth base map based on CES percentile; 3) has different marker colors based on whether the plant is Clean Energy or Fossil Fuel. \n",
    "\n",
    "I start by identifying the unique values in Energy_Type, since I will need to create a discrete color map to assign colors to each unique value in Energy_Type. "
   ]
  },
  {
   "cell_type": "code",
   "execution_count": null,
   "metadata": {},
   "outputs": [],
   "source": [
    "cpp_trim['Energy_Type'].unique()"
   ]
  },
  {
   "cell_type": "markdown",
   "metadata": {},
   "source": [
    "We see that Energy_Type has two object type values: Clean Energy and Fossil Fuel. \n",
    "\n",
    "Next, let's create the map using plotly! "
   ]
  },
  {
   "cell_type": "code",
   "execution_count": null,
   "metadata": {},
   "outputs": [],
   "source": [
    "#plot cloropleth map as the base map, pulling in the geojson data we defined above \n",
    "fig = px.choropleth_mapbox(gdf_sortbyces_plotly,\n",
    "                          geojson=geojson,\n",
    "                          locations=gdf_sortbyces_plotly.index,\n",
    "                          color_continuous_scale=\"plasma\",\n",
    "                          mapbox_style=\"carto-positron\",\n",
    "                            zoom=4, center = {\"lat\": 37, \"lon\": -120},\n",
    "                          opacity=0.4,\n",
    "                          color=\"CIscoreP\")\n",
    "\n",
    "\n",
    "# map the california power plant points\n",
    "# color code points based on fossil fuel vs clean energy classification\n",
    "# and add hover functionality\n",
    "fig2 = px.scatter_mapbox(cpp_trim, \n",
    "                        lat=\"Lat\", \n",
    "                        lon=\"Lon\",\n",
    "                        color='Energy_Type',\n",
    "                        color_discrete_sequence=px.colors.qualitative.Alphabet,\n",
    "                        color_discrete_map={\"Fossil Fuel\": 'red', \"Clean Energy\": 'blue'},\n",
    "                        hover_name='Name',\n",
    "                        hover_data=['Fuel_Type','Jobs','CES30_Percentile','Project_Location'],\n",
    "                        zoom = 4\n",
    "                       )\n",
    "fig.update_layout(\n",
    "    # title the map\n",
    "    title=\"Power Plant and CES Percentile by Census Tract\",\n",
    "    # format the Renewable Energy legend to be horizontal and in the top right corner. \n",
    "    legend=dict(\n",
    "        orientation=\"h\",\n",
    "        yanchor=\"top\",\n",
    "        y=1.02,\n",
    "        xanchor=\"right\",\n",
    "        x=1),\n",
    "    font=dict(\n",
    "        family=\"Courier New, monospace\",\n",
    "        size=18,\n",
    "        color=\"RebeccaPurple\"))\n",
    "        \n",
    "\n",
    "fig.add_trace(fig2.data[1])\n",
    "fig.add_trace(fig2.data[0])\n",
    "fig.show()"
   ]
  },
  {
   "cell_type": "code",
   "execution_count": null,
   "metadata": {},
   "outputs": [],
   "source": [
    "fig.write_html(\"V2PowerPlant_Location_by_CIscoreP.html\")"
   ]
  },
  {
   "cell_type": "markdown",
   "metadata": {},
   "source": [
    "Phew! This map was a beast to create, but after a lot of troubleshooting with stackoverflow, it works as expected and looks great. Next, let's create the same map but with dynamic marker sizes to indicate number of jobs. "
   ]
  },
  {
   "cell_type": "code",
   "execution_count": null,
   "metadata": {},
   "outputs": [],
   "source": [
    "#plot cloropleth map as the base map, pulling in the geojson data we defined above \n",
    "fig = px.choropleth_mapbox(gdf_sortbyces_plotly,\n",
    "                          geojson=geojson,\n",
    "                          locations=gdf_sortbyces_plotly.index,\n",
    "                          color_continuous_scale=\"plasma\",\n",
    "                          mapbox_style=\"carto-positron\",\n",
    "                            zoom=4, center = {\"lat\": 37, \"lon\": -120},\n",
    "                          opacity=0.4,\n",
    "                          color=\"CIscoreP\")\n",
    "\n",
    "\n",
    "# map the california power plant points\n",
    "# color code points based on fossil fuel vs clean energy classification\n",
    "# and add hover functionality\n",
    "fig2 = px.scatter_mapbox(cpp_trim, \n",
    "                        lat=\"Lat\", \n",
    "                        lon=\"Lon\",\n",
    "                        color='Energy_Type',\n",
    "                        size = 'Jobs',\n",
    "                        color_discrete_sequence=px.colors.qualitative.Alphabet,\n",
    "                        color_discrete_map={\"Fossil Fuel\": 'red', \"Clean Energy\": 'blue'},\n",
    "                        hover_name='Name',\n",
    "                        hover_data=['Fuel_Type','Jobs','CES30_Percentile','Project_Location'],\n",
    "                        zoom = 4\n",
    "                       )\n",
    "fig.update_layout(\n",
    "    # title the map\n",
    "    title=\"Power Plant and CES Percentile by Census Tract\\n # Jobs indicated by Marker Size\",\n",
    "    # format the Renewable Energy legend to be horizontal and in the top right corner. \n",
    "    legend=dict(\n",
    "        orientation=\"h\",\n",
    "        yanchor=\"top\",\n",
    "        y=1.02,\n",
    "        xanchor=\"right\",\n",
    "        x=1),\n",
    "    font=dict(\n",
    "        family=\"Courier New, monospace\",\n",
    "        size=18,\n",
    "        color=\"RebeccaPurple\"))\n",
    "        \n",
    "\n",
    "fig.add_trace(fig2.data[1])\n",
    "fig.add_trace(fig2.data[0])\n",
    "fig.show()"
   ]
  },
  {
   "cell_type": "code",
   "execution_count": null,
   "metadata": {},
   "outputs": [],
   "source": [
    "fig.write_html(\"Jobs_PowerPlant_Location_by_CIscoreP.html\")"
   ]
  },
  {
   "cell_type": "markdown",
   "metadata": {},
   "source": [
    "We created an interactive plotly map for powerplant locations, jobs, and CIscoreP. For this notebook, we'll stop here since using plotly has taken up so much data already. "
   ]
  }
 ],
 "metadata": {
  "kernelspec": {
   "display_name": "Python 3",
   "language": "python",
   "name": "python3"
  },
  "language_info": {
   "codemirror_mode": {
    "name": "ipython",
    "version": 3
   },
   "file_extension": ".py",
   "mimetype": "text/x-python",
   "name": "python",
   "nbconvert_exporter": "python",
   "pygments_lexer": "ipython3",
   "version": "3.8.5"
  },
  "toc": {
   "base_numbering": 1,
   "nav_menu": {},
   "number_sections": true,
   "sideBar": true,
   "skip_h1_title": false,
   "title_cell": "Table of Contents",
   "title_sidebar": "Contents",
   "toc_cell": false,
   "toc_position": {},
   "toc_section_display": true,
   "toc_window_display": false
  }
 },
 "nbformat": 4,
 "nbformat_minor": 4
}
