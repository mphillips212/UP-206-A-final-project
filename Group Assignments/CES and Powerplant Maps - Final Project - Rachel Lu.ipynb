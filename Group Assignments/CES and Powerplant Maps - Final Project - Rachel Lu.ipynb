{
 "cells": [
  {
   "cell_type": "markdown",
   "metadata": {},
   "source": [
    "# Fossil Fuel Jobs Visualizations\n",
    "\n",
    "### Author: Rachel Lu\n",
    "\n",
    "### Description:\n"
   ]
  },
  {
   "cell_type": "markdown",
   "metadata": {},
   "source": [
    "# Import Libraries"
   ]
  },
  {
   "cell_type": "code",
   "execution_count": null,
   "metadata": {},
   "outputs": [],
   "source": [
    "%matplotlib notebook\n",
    "# the usuals\n",
    "import geopandas as gpd\n",
    "import matplotlib.pyplot as plt\n",
    "import pandas as pd\n",
    "import contextily as ctx\n",
    "import plotly.express as px\n"
   ]
  },
  {
   "cell_type": "markdown",
   "metadata": {},
   "source": [
    "# Import Data\n",
    "\n",
    "Import California Power Plant dataset. "
   ]
  },
  {
   "cell_type": "code",
   "execution_count": null,
   "metadata": {},
   "outputs": [],
   "source": [
    "cpp = gpd.read_file('California_Power_Plants_MP Cleaned 3.1.21.csv')"
   ]
  },
  {
   "cell_type": "markdown",
   "metadata": {},
   "source": [
    "# Data Exploration"
   ]
  },
  {
   "cell_type": "markdown",
   "metadata": {},
   "source": [
    "Let's explore our data. "
   ]
  },
  {
   "cell_type": "code",
   "execution_count": null,
   "metadata": {},
   "outputs": [],
   "source": [
    "type(cpp)"
   ]
  },
  {
   "cell_type": "code",
   "execution_count": null,
   "metadata": {},
   "outputs": [],
   "source": [
    "cpp.shape"
   ]
  },
  {
   "cell_type": "code",
   "execution_count": null,
   "metadata": {},
   "outputs": [],
   "source": [
    "cpp.head(5)"
   ]
  },
  {
   "cell_type": "code",
   "execution_count": null,
   "metadata": {},
   "outputs": [],
   "source": [
    "cpp.info()"
   ]
  },
  {
   "cell_type": "markdown",
   "metadata": {},
   "source": [
    "# Clean Data"
   ]
  },
  {
   "cell_type": "markdown",
   "metadata": {},
   "source": [
    "Let's rename some of our columns so they're easier to work with and more intuitive. "
   ]
  },
  {
   "cell_type": "code",
   "execution_count": null,
   "metadata": {},
   "outputs": [],
   "source": [
    "list(cpp)"
   ]
  },
  {
   "cell_type": "code",
   "execution_count": null,
   "metadata": {},
   "outputs": [],
   "source": [
    "cpp.columns = ['Plant_ID',\n",
    " 'Name',\n",
    " 'MW',\n",
    " 'Gross_MWh',\n",
    " 'Net_MWh',\n",
    " 'Fuel_Type',\n",
    " 'Status',\n",
    " 'Online_Year',\n",
    " 'REAT_ID',\n",
    " 'County',\n",
    " 'State',\n",
    " 'Renewable_Energy',\n",
    " 'Jobs',\n",
    " 'Senate_District',\n",
    " 'Assembly_District',\n",
    " 'Congressional_District',\n",
    " 'CES30_PercentileRange',\n",
    " 'CES30_Percentile',\n",
    " 'Lon',\n",
    " 'Lat',\n",
    " 'Operation_Job',\n",
    " 'Capacity_Factor',\n",
    " 'Income_Percent',\n",
    " 'Project_Location',\n",
    " 'geometry']"
   ]
  },
  {
   "cell_type": "code",
   "execution_count": null,
   "metadata": {},
   "outputs": [],
   "source": [
    "cpp.head(5)"
   ]
  },
  {
   "cell_type": "markdown",
   "metadata": {},
   "source": [
    "Let's drop some unnecessary columns from our dataset. "
   ]
  },
  {
   "cell_type": "code",
   "execution_count": null,
   "metadata": {},
   "outputs": [],
   "source": [
    "# define variable with desired columns \n",
    "desired_columns = [\n",
    " 'Name',\n",
    " 'Fuel_Type',\n",
    " 'Status',\n",
    " 'County',\n",
    " 'State',\n",
    " 'Renewable_Energy',\n",
    " 'Jobs',\n",
    " 'CES30_PercentileRange',\n",
    " 'CES30_Percentile',\n",
    " 'Lon',\n",
    " 'Lat',\n",
    " 'Income_Percent',\n",
    " 'Project_Location',\n",
    " 'geometry']\n",
    "\n",
    "# redefine our dataframe with just our desired columns.\n",
    "\n",
    "cpp_trim = cpp[desired_columns].copy()\n",
    "\n",
    "# check out the new dataframe! \n",
    "cpp_trim[cpp_trim.CES30_Percentile == '']"
   ]
  },
  {
   "cell_type": "markdown",
   "metadata": {},
   "source": [
    "I created a new dataframe called cpp_trim with only desired columns. I check the work and yes, we have a new dataframe with only the columns we want! \n",
    "\n",
    "Next up, we remember that our data types are almost all object types. Let's convert some fields to floats so we can work with them in our visualizations and data analysis. "
   ]
  },
  {
   "cell_type": "code",
   "execution_count": null,
   "metadata": {},
   "outputs": [],
   "source": [
    "# We want to convert coordinates  and jobs to floats. \n",
    "\n",
    "cpp_trim.Lon = cpp_trim.Lon.astype('float')\n",
    "cpp_trim.Lat = cpp_trim.Lat.astype('float')\n",
    "cpp_trim.Jobs = cpp_trim.Jobs.astype('float')"
   ]
  },
  {
   "cell_type": "code",
   "execution_count": null,
   "metadata": {},
   "outputs": [],
   "source": [
    "# Rename values in Renewable_Energy, such that 0 = Fossil Fuel and 1 = Clean Energy. To do so, we create a dictionary. \n",
    "\n",
    "cpp_trim = cpp_trim.replace({'Renewable_Energy': {'0': 'Fossil Fuel', '1': 'Clean Energy'}})\n",
    "\n",
    "#check\n",
    "cpp_trim\n"
   ]
  },
  {
   "cell_type": "markdown",
   "metadata": {},
   "source": [
    "Now, let's turn our lat long data points into geometry point data. "
   ]
  },
  {
   "cell_type": "code",
   "execution_count": null,
   "metadata": {},
   "outputs": [],
   "source": [
    "cpp_trim = gpd.GeoDataFrame(cpp_trim, \n",
    "                         crs='EPSG:4326',\n",
    "                         geometry=gpd.points_from_xy(cpp_trim.Lon, cpp_trim.Lat))\n",
    "\n",
    "cpp_trim.head(5)"
   ]
  },
  {
   "cell_type": "code",
   "execution_count": null,
   "metadata": {},
   "outputs": [],
   "source": [
    "#create a list for unique project locations, so we can run it through our interactive function later on. \n",
    "\n",
    "unique_project_locations = cpp_trim['Project_Location'].unique()"
   ]
  },
  {
   "cell_type": "code",
   "execution_count": null,
   "metadata": {},
   "outputs": [],
   "source": [
    "# check crs type\n",
    "\n",
    "cpp_trim.crs"
   ]
  },
  {
   "cell_type": "markdown",
   "metadata": {},
   "source": [
    "# CalEnviroScreen\n",
    "\n",
    "Our research question centers on whether fossil fuel and clean energy jobs are located in disadvantaged communities. Now it's time to overlay the fossil fuel data with CalEnviroScreen data to answer this question."
   ]
  },
  {
   "cell_type": "code",
   "execution_count": null,
   "metadata": {},
   "outputs": [],
   "source": [
    "gdf_ces = gpd.read_file('../CES3June2018Update.shp')"
   ]
  },
  {
   "cell_type": "markdown",
   "metadata": {},
   "source": [
    "# Explore Data"
   ]
  },
  {
   "cell_type": "markdown",
   "metadata": {},
   "source": [
    "I begin by exploring the data. Let's make sure that it's a geodataframe, check out the CRS type, and see what the data looks like. "
   ]
  },
  {
   "cell_type": "code",
   "execution_count": null,
   "metadata": {},
   "outputs": [],
   "source": [
    "type(gdf_ces)"
   ]
  },
  {
   "cell_type": "code",
   "execution_count": null,
   "metadata": {},
   "outputs": [],
   "source": [
    "gdf_ces.crs"
   ]
  },
  {
   "cell_type": "code",
   "execution_count": null,
   "metadata": {},
   "outputs": [],
   "source": [
    "gdf_ces.head()"
   ]
  },
  {
   "cell_type": "markdown",
   "metadata": {},
   "source": [
    "During my data exploration, I confirm that my dataframe is a geodataframe, CRS is EPSG:3310 and check out the first 5 rows of my data frame. I see a few things that could be cleaned up. \n",
    "\n"
   ]
  },
  {
   "cell_type": "markdown",
   "metadata": {},
   "source": [
    "# Data Cleaning\n"
   ]
  },
  {
   "cell_type": "code",
   "execution_count": null,
   "metadata": {},
   "outputs": [],
   "source": [
    "#define variable with desired columns \n",
    "columns_to_keep = ['tract', 'pop2010', 'California', 'ZIP', 'City', 'Longitude', 'Latitude', 'CIscore', 'CIscoreP', 'edu', 'eduP', 'pov', 'povP', 'unemp', 'unempP', 'Pop_11_64_', 'Elderly_ov', 'Hispanic_p', 'White_pct', 'African_Am', 'Native_Ame', 'Asian_Amer', 'Other_pct', 'geometry']\n",
    "\n",
    "#redfine dataframe with desired columns \n",
    "gdf_ces = gdf_ces[columns_to_keep]\n",
    "\n",
    "# check to make sure \n",
    "\n",
    "gdf_ces.head()"
   ]
  },
  {
   "cell_type": "markdown",
   "metadata": {},
   "source": [
    "\n",
    "## Sorting and mapping CES scores\n",
    "\n",
    "To continue exploring the data, I'm going to sort it. I want to see which counties have the highest CES score (that is, are most burdened by and vulnerable to environmental pollution). So I'll create a new dataframe."
   ]
  },
  {
   "cell_type": "code",
   "execution_count": null,
   "metadata": {},
   "outputs": [],
   "source": [
    "# to sort the data by CES score\n",
    "gdf_sortbyces = gdf_ces.sort_values(by='CIscore', ascending = False)\n",
    "\n",
    "# check my work \n",
    "gdf_sortbyces.head()"
   ]
  },
  {
   "cell_type": "code",
   "execution_count": null,
   "metadata": {},
   "outputs": [],
   "source": [
    "# create a new dataframe with just the columns I want. \n",
    "\n",
    "gdf_sortbyces[['California','City','CIscore','CIscoreP', 'geometry']]"
   ]
  },
  {
   "cell_type": "markdown",
   "metadata": {},
   "source": [
    "Now, let's map it out!\n",
    "\n"
   ]
  },
  {
   "cell_type": "code",
   "execution_count": null,
   "metadata": {},
   "outputs": [],
   "source": [
    "# to map the sorted dataframe using geopandas chloropleth maps\n",
    "gdf_sortbyces.plot(figsize=(10,10),\n",
    "                   column='CIscore',\n",
    "                   legend=True,\n",
    "                   scheme='NaturalBreaks')"
   ]
  },
  {
   "cell_type": "markdown",
   "metadata": {},
   "source": [
    "Success! Here's a map that shows the state of California by census tracts sorted by CES score. I used the natural breaks scheme, which skews the data a bit by grouping tracts with high CES scores together.\n",
    "\n",
    "The natural breaks map shows that there seems to be a natural break around CES scores of 52."
   ]
  },
  {
   "cell_type": "markdown",
   "metadata": {},
   "source": [
    "# Overlay Fossil Fuel Jobs and CalEnviroScreen"
   ]
  },
  {
   "cell_type": "markdown",
   "metadata": {},
   "source": [
    "When we explored our CES data above, we discovered that it's CRS is in EPSG:3310, which is different from our CRS for the CPP dataset. Let's make sure they're in the same CRS. "
   ]
  },
  {
   "cell_type": "code",
   "execution_count": null,
   "metadata": {},
   "outputs": [],
   "source": [
    "#reproject gdf_sortbyces to web mercator. \n",
    "\n",
    "gdf_sortbyces = gdf_sortbyces.to_crs(epsg=4326)\n",
    "\n",
    "#reproject cpp_trim to web mercator\n",
    "cpp_trim = cpp_trim.to_crs(epsg=4326)\n",
    "\n",
    "# check work\n",
    "\n",
    "print(gdf_sortbyces.crs)"
   ]
  },
  {
   "cell_type": "code",
   "execution_count": null,
   "metadata": {},
   "outputs": [],
   "source": [
    "print(cpp_trim.crs)"
   ]
  },
  {
   "cell_type": "code",
   "execution_count": null,
   "metadata": {},
   "outputs": [],
   "source": [
    "# set up the plot canvas with plt.subplots\n",
    "fig, ax = plt.subplots(figsize=(10, 10))\n",
    "\n",
    "# block groups\n",
    "gdf_sortbyces.plot(ax=ax, # this puts it in the ax plot\n",
    "        color='gray', \n",
    "        edgecolor='white',\n",
    "        alpha=0.5)\n",
    "\n",
    "# cpp_trim\n",
    "cpp_trim.plot(ax=ax, # this also puts it in the same ax plot\n",
    "            color='red',\n",
    "            markersize=3,\n",
    "            alpha=0.2)"
   ]
  },
  {
   "cell_type": "code",
   "execution_count": null,
   "metadata": {},
   "outputs": [],
   "source": [
    "cpp_trim['Renewable_Energy'].unique()"
   ]
  },
  {
   "cell_type": "code",
   "execution_count": null,
   "metadata": {},
   "outputs": [],
   "source": [
    "# side by side for clean energy vs. fossil fuel, drop down of disadvantaged vs. lowincome communities.\n",
    "\n",
    "# use plotly to add the hover functionality\n",
    "\n",
    "from ipywidgets import interact, interact_manual\n",
    "from shapely.geometry import LineString, MultiLineString\n",
    "import numpy as np\n",
    "import pyproj\n",
    "\n",
    "#gdf_sortbyces_plotly = gdf_sortbyces.to_crs(epsg=3857)\n",
    "gdf_sortbyces_plotly = gdf_sortbyces.to_crs(pyproj.CRS.from_epsg(4326))\n",
    "\n",
    "\n",
    "# using empet code to convert .shp to geoJSON\n",
    "def shapefile_to_geojson(gdf, index_list, tolerance=0.025):\n",
    "   # gdf - geopandas dataframe containing the geometry column and values to be mapped to a colorscale\n",
    "   # index_list - a sublist of list(gdf.index)  or gdf.index  for all data\n",
    "   # tolerance - float parameter to set the Polygon/MultiPolygon degree of simplification\n",
    "   # returns a geojson type dict\n",
    "\n",
    "   #geo_names = list(gdf[f'lad19nm']) # name of authorities\n",
    "   geojson = {'type': 'FeatureCollection', 'features': []}\n",
    "   for index in index_list:\n",
    "       geo = gdf['geometry'][index].simplify(tolerance)\n",
    "\n",
    "       if isinstance(geo.boundary, LineString):\n",
    "           gtype = 'Polygon'\n",
    "           bcoords = np.dstack(geo.boundary.coords.xy).tolist()\n",
    "\n",
    "       elif isinstance(geo.boundary, MultiLineString):\n",
    "           gtype = 'MultiPolygon'\n",
    "           bcoords = []\n",
    "           for b in geo.boundary:\n",
    "               x, y = b.coords.xy\n",
    "               coords = np.dstack((x,y)).tolist()\n",
    "               bcoords.append(coords)\n",
    "       else: pass\n",
    "\n",
    "\n",
    "\n",
    "       feature = {'type': 'Feature',\n",
    "                  'id' : index,\n",
    "                  'properties': {'name': 'test'},\n",
    "                  'geometry': {'type': gtype,\n",
    "                               'coordinates': bcoords},\n",
    "                   }\n",
    "\n",
    "       geojson['features'].append(feature)\n",
    "   return geojson\n",
    "\n",
    "geojson = shapefile_to_geojson(gdf_sortbyces_plotly, list(gdf_sortbyces_plotly.index), 0.0001)\n"
   ]
  },
  {
   "cell_type": "code",
   "execution_count": null,
   "metadata": {},
   "outputs": [],
   "source": [
    "fig = px.choropleth_mapbox(gdf_sortbyces_plotly,\n",
    "                          geojson=geojson,\n",
    "                          locations=gdf_sortbyces_plotly.index,\n",
    "                          color_continuous_scale=\"plasma\",\n",
    "                          mapbox_style=\"carto-positron\",\n",
    "                            zoom=3, center = {\"lat\": 37.0902, \"lon\": -95.7129},\n",
    "                          opacity=0.5,\n",
    "                          color=\"CIscoreP\")\n",
    "\n",
    "\n",
    "\n",
    "fig2 = px.scatter_mapbox(cpp_trim, \n",
    "                        lat=\"Lat\", \n",
    "                        lon=\"Lon\",\n",
    "                        color='Renewable_Energy',\n",
    "                        color_discrete_sequence=px.colors.qualitative.Alphabet,\n",
    "                        color_discrete_map={\"Fossil Fuel\": 'red', \"Clean Energy\": 'blue'},\n",
    "                        hover_name='Name',\n",
    "                        hover_data=['Fuel_Type','County','Jobs','CES30_Percentile','Project_Location'],\n",
    "                        size='Jobs',\n",
    "                        zoom = 6\n",
    "                       )\n",
    "fig.update_layout(\n",
    "    title=\"Power Plant Jobs and CES Percentile by Census Tract\",\n",
    "    legend_title=\"CES Percentile\",\n",
    "    font=dict(\n",
    "        family=\"Courier New, monospace\",\n",
    "        size=18,\n",
    "        color=\"RebeccaPurple\"))\n",
    "        \n",
    "#fig2.update_layout(legend=dict(yanchor=\"top\", xanchor=\"left\"))\n",
    "fig.add_trace(fig2.data[1])\n",
    "fig.add_trace(fig2.data[0])\n",
    "fig.show()"
   ]
  },
  {
   "cell_type": "code",
   "execution_count": null,
   "metadata": {},
   "outputs": [],
   "source": [
    "# side by side for clean energy vs. fossil fuel, drop down of disadvantaged vs. lowincome communities. \n",
    "\n",
    "# use plotly to add the hover functionality \n",
    "\n",
    "from ipywidgets import interact, interact_manual\n",
    "\n",
    "@interact\n",
    "def test(Renewable=['Clean Energy', 'Fossil Fuel'], Location = unique_project_locations):\n",
    "\n",
    "   # set up the plot canvas with plt.subplots\n",
    "    fig, ax = plt.subplots(figsize=(10, 10)) \n",
    "    \n",
    "    gdf_sortbyces.plot(ax=ax, # this puts it in the ax plot\n",
    "            column = 'CIscore', \n",
    "            edgecolor='grey',\n",
    "            linewidth = 0.4,\n",
    "            legend=True,\n",
    "            scheme='naturalbreaks',\n",
    "            alpha=0.7)\n",
    "     \n",
    "\n",
    "    display_data = cpp_trim[cpp_trim.Renewable_Energy==Renewable]\n",
    "    display_data = display_data[display_data.Project_Location==Location]\n",
    "    display_data.plot(ax=ax, # this also puts it in the same ax plot\n",
    "            cmap = 'hot',\n",
    "            column='Renewable_Energy',\n",
    "            legend=True,\n",
    "            markersize=0.5,\n",
    "            alpha=0.5)\n",
    "\n",
    "    plt.show()\n",
    "\n",
    "\n"
   ]
  },
  {
   "cell_type": "code",
   "execution_count": null,
   "metadata": {},
   "outputs": [],
   "source": [
    "# seaborn needs an x and y column so let's extract it from the geometry field\n",
    "cpp_trim['x'] = cpp_trim.geometry.x\n",
    "cpp_trim['y'] = cpp_trim.geometry.y"
   ]
  },
  {
   "cell_type": "code",
   "execution_count": null,
   "metadata": {},
   "outputs": [],
   "source": [
    "# Set up figure and axis\n",
    "f, ax = plt.subplots(figsize=(10,7))\n",
    "\n",
    "# Generate and add hexbin with 50 hexagons in each \n",
    "# dimension, half transparency, ommitting grids with no crime,\n",
    "# and the reverse viridis colormap\n",
    "hb = ax.hexbin(\n",
    "    x = cpp_trim['x'], \n",
    "    y = cpp_trim['y'],\n",
    "    gridsize=50, \n",
    "    linewidths=1,\n",
    "    alpha=0.5, \n",
    "    mincnt=1, # don't show zero\n",
    "    cmap='viridis_r')\n",
    "\n",
    "# title\n",
    "#new_title = 'Powerplant Counts per Census Tract'\n",
    "#ax.legend([new_title])\n",
    "\n",
    "# Add basemap\n",
    "ctx.add_basemap(\n",
    "    ax, \n",
    "    crs='epsg:4326',\n",
    "    source=ctx.providers.CartoDB.Positron\n",
    ")\n",
    "\n",
    "# Add colorbar\n",
    "plt.colorbar(hb)\n",
    "\n",
    "# Remove axes\n",
    "ax.axis('off')"
   ]
  },
  {
   "cell_type": "code",
   "execution_count": null,
   "metadata": {},
   "outputs": [],
   "source": [
    "gdf_ff = cpp_trim[cpp_trim.Renewable_Energy=='Fossil Fuel']\n",
    "gdf_ff"
   ]
  },
  {
   "cell_type": "code",
   "execution_count": null,
   "metadata": {},
   "outputs": [],
   "source": [
    "gdf_ce = cpp_trim[cpp_trim.Renewable_Energy=='Clean Energy']\n",
    "gdf_ce"
   ]
  },
  {
   "cell_type": "code",
   "execution_count": null,
   "metadata": {},
   "outputs": [],
   "source": [
    "# Set up figure and axis\n",
    "f, ax = plt.subplots(figsize=(10,7))\n",
    "\n",
    "# Generate and add hexbin with 50 hexagons in each \n",
    "# dimension, half transparency, ommitting grids with no crime,\n",
    "# and the reverse viridis colormap\n",
    "hb = ax.hexbin(\n",
    "    x = gdf_ce['x'], \n",
    "    y = gdf_ce['y'],\n",
    "    gridsize=50, \n",
    "    linewidths=1,\n",
    "    alpha=0.5, \n",
    "    mincnt=1, # don't show zero\n",
    "    cmap='viridis_r')\n",
    "\n",
    "# title\n",
    "#new_title = 'Powerplant Counts per Census Tract'\n",
    "#ax.legend([new_title])\n",
    "\n",
    "# Add basemap\n",
    "ctx.add_basemap(\n",
    "    ax, \n",
    "    crs='epsg:4326',\n",
    "    source=ctx.providers.CartoDB.Positron\n",
    ")\n",
    "\n",
    "# Add colorbar\n",
    "plt.colorbar(hb)\n",
    "\n",
    "# Remove axes\n",
    "ax.axis('off')\n"
   ]
  },
  {
   "cell_type": "code",
   "execution_count": null,
   "metadata": {},
   "outputs": [],
   "source": [
    "# Set up figure and axis\n",
    "f, ax = plt.subplots(figsize=(10,7))\n",
    "\n",
    "# Generate and add hexbin with 50 hexagons in each \n",
    "# dimension, half transparency, ommitting grids with no crime,\n",
    "# and the reverse viridis colormap\n",
    "hb = ax.hexbin(\n",
    "    x = gdf_ff['x'], \n",
    "    y = gdf_ff['y'],\n",
    "    gridsize=50, \n",
    "    linewidths=1,\n",
    "    alpha=0.5, \n",
    "    mincnt=1, # don't show zero\n",
    "    cmap='viridis_r')\n",
    "\n",
    "# title\n",
    "#new_title = 'Powerplant Counts per Census Tract'\n",
    "#ax.legend([new_title])\n",
    "\n",
    "# Add basemap\n",
    "ctx.add_basemap(\n",
    "    ax, \n",
    "    crs='epsg:4326',\n",
    "    source=ctx.providers.CartoDB.Positron\n",
    ")\n",
    "\n",
    "# Add colorbar\n",
    "plt.colorbar(hb)\n",
    "\n",
    "# Remove axes\n",
    "ax.axis('off')"
   ]
  },
  {
   "cell_type": "code",
   "execution_count": null,
   "metadata": {},
   "outputs": [],
   "source": []
  }
 ],
 "metadata": {
  "kernelspec": {
   "display_name": "Python 3",
   "language": "python",
   "name": "python3"
  },
  "language_info": {
   "codemirror_mode": {
    "name": "ipython",
    "version": 3
   },
   "file_extension": ".py",
   "mimetype": "text/x-python",
   "name": "python",
   "nbconvert_exporter": "python",
   "pygments_lexer": "ipython3",
   "version": "3.8.5"
  },
  "toc": {
   "base_numbering": 1,
   "nav_menu": {},
   "number_sections": true,
   "sideBar": true,
   "skip_h1_title": false,
   "title_cell": "Table of Contents",
   "title_sidebar": "Contents",
   "toc_cell": false,
   "toc_position": {},
   "toc_section_display": true,
   "toc_window_display": false
  }
 },
 "nbformat": 4,
 "nbformat_minor": 4
}
